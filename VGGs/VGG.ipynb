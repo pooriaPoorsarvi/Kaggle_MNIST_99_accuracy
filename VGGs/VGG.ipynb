{
 "cells": [
  {
   "cell_type": "code",
   "execution_count": 34,
   "metadata": {},
   "outputs": [],
   "source": [
    "import numpy as np\n",
    "from keras import layers\n",
    "from keras.layers import Input, Dense, Activation, ZeroPadding2D, BatchNormalization, Flatten, Conv2D\n",
    "from keras.layers import AveragePooling2D, MaxPooling2D, Dropout, GlobalMaxPooling2D, GlobalAveragePooling2D\n",
    "from keras.models import Model\n",
    "from keras.preprocessing import image\n",
    "from keras.utils import layer_utils\n",
    "from keras.utils.data_utils import get_file\n",
    "from keras.applications.imagenet_utils import preprocess_input\n",
    "import pydot\n",
    "from IPython.display import SVG\n",
    "from keras.utils.vis_utils import model_to_dot\n",
    "from keras.utils import plot_model\n",
    "\n",
    "\n",
    "import keras.backend as K\n",
    "K.set_image_data_format('channels_last')\n",
    "import matplotlib.pyplot as plt\n",
    "from matplotlib.pyplot import imshow\n",
    "\n",
    "import tensorflow as tf\n",
    "import pandas as pd\n",
    "\n",
    "%matplotlib inline"
   ]
  },
  {
   "cell_type": "code",
   "execution_count": 45,
   "metadata": {},
   "outputs": [],
   "source": [
    "def VGGONE(shape):\n",
    "    X_input= Input(shape)\n",
    "    X = X_input\n",
    "    for i in range(4):\n",
    "        X = Conv2D(filters=2**(i+5),kernel_size=(3,3),strides=(1,1),padding='same',name='conv2D_1_'+str(i))(X)\n",
    "        X = BatchNormalization(axis=3,name='norm_1_'+str(i))(X)\n",
    "        X = Activation('relu',name='active_1_'+str(i))(X)\n",
    "        X = Conv2D(filters=2**(i+5),kernel_size=(3,3),strides=(1,1),padding='same',name='conv2D_2_'+str(i))(X)\n",
    "        X = BatchNormalization(axis=3,name='norm_2_'+str(i))(X)\n",
    "        X = Activation('relu',name='active_2_'+str(i))(X)\n",
    "        X = MaxPooling2D(pool_size=(2,2),strides=(2,2),name='Max_pool'+str(i))(X)\n",
    "    X = Flatten()(X)\n",
    "    X = Dense(units=512,activation='relu',name='Dense1')(X)\n",
    "    X = Dense(units=512,activation='relu',name='Dense2')(X)\n",
    "    X = Dense(units=10,activation='softmax',name='ffc')(X)\n",
    "    \n",
    "    model = Model(inputs=X_input,outputs=X)\n",
    "    \n",
    "    return model\n"
   ]
  },
  {
   "cell_type": "code",
   "execution_count": 46,
   "metadata": {},
   "outputs": [],
   "source": [
    "model = VGGONE([28,28,1])"
   ]
  },
  {
   "cell_type": "code",
   "execution_count": 47,
   "metadata": {},
   "outputs": [
    {
     "data": {
      "text/plain": [
       "{'input_layers': [['input_6', 0, 0]],\n",
       " 'layers': [{'class_name': 'InputLayer',\n",
       "   'config': {'batch_input_shape': (None, 28, 28, 1),\n",
       "    'dtype': 'float32',\n",
       "    'name': 'input_6',\n",
       "    'sparse': False},\n",
       "   'inbound_nodes': [],\n",
       "   'name': 'input_6'},\n",
       "  {'class_name': 'Conv2D',\n",
       "   'config': {'activation': 'linear',\n",
       "    'activity_regularizer': None,\n",
       "    'bias_constraint': None,\n",
       "    'bias_initializer': {'class_name': 'Zeros', 'config': {}},\n",
       "    'bias_regularizer': None,\n",
       "    'data_format': 'channels_last',\n",
       "    'dilation_rate': (1, 1),\n",
       "    'filters': 32,\n",
       "    'kernel_constraint': None,\n",
       "    'kernel_initializer': {'class_name': 'VarianceScaling',\n",
       "     'config': {'distribution': 'uniform',\n",
       "      'mode': 'fan_avg',\n",
       "      'scale': 1.0,\n",
       "      'seed': None}},\n",
       "    'kernel_regularizer': None,\n",
       "    'kernel_size': (3, 3),\n",
       "    'name': 'conv2D_1_0',\n",
       "    'padding': 'same',\n",
       "    'strides': (1, 1),\n",
       "    'trainable': True,\n",
       "    'use_bias': True},\n",
       "   'inbound_nodes': [[['input_6', 0, 0, {}]]],\n",
       "   'name': 'conv2D_1_0'},\n",
       "  {'class_name': 'BatchNormalization',\n",
       "   'config': {'axis': 3,\n",
       "    'beta_constraint': None,\n",
       "    'beta_initializer': {'class_name': 'Zeros', 'config': {}},\n",
       "    'beta_regularizer': None,\n",
       "    'center': True,\n",
       "    'epsilon': 0.001,\n",
       "    'gamma_constraint': None,\n",
       "    'gamma_initializer': {'class_name': 'Ones', 'config': {}},\n",
       "    'gamma_regularizer': None,\n",
       "    'momentum': 0.99,\n",
       "    'moving_mean_initializer': {'class_name': 'Zeros', 'config': {}},\n",
       "    'moving_variance_initializer': {'class_name': 'Ones', 'config': {}},\n",
       "    'name': 'norm_1_0',\n",
       "    'scale': True,\n",
       "    'trainable': True},\n",
       "   'inbound_nodes': [[['conv2D_1_0', 0, 0, {}]]],\n",
       "   'name': 'norm_1_0'},\n",
       "  {'class_name': 'Activation',\n",
       "   'config': {'activation': 'relu', 'name': 'active_1_0', 'trainable': True},\n",
       "   'inbound_nodes': [[['norm_1_0', 0, 0, {}]]],\n",
       "   'name': 'active_1_0'},\n",
       "  {'class_name': 'Conv2D',\n",
       "   'config': {'activation': 'linear',\n",
       "    'activity_regularizer': None,\n",
       "    'bias_constraint': None,\n",
       "    'bias_initializer': {'class_name': 'Zeros', 'config': {}},\n",
       "    'bias_regularizer': None,\n",
       "    'data_format': 'channels_last',\n",
       "    'dilation_rate': (1, 1),\n",
       "    'filters': 32,\n",
       "    'kernel_constraint': None,\n",
       "    'kernel_initializer': {'class_name': 'VarianceScaling',\n",
       "     'config': {'distribution': 'uniform',\n",
       "      'mode': 'fan_avg',\n",
       "      'scale': 1.0,\n",
       "      'seed': None}},\n",
       "    'kernel_regularizer': None,\n",
       "    'kernel_size': (3, 3),\n",
       "    'name': 'conv2D_2_0',\n",
       "    'padding': 'same',\n",
       "    'strides': (1, 1),\n",
       "    'trainable': True,\n",
       "    'use_bias': True},\n",
       "   'inbound_nodes': [[['active_1_0', 0, 0, {}]]],\n",
       "   'name': 'conv2D_2_0'},\n",
       "  {'class_name': 'BatchNormalization',\n",
       "   'config': {'axis': 3,\n",
       "    'beta_constraint': None,\n",
       "    'beta_initializer': {'class_name': 'Zeros', 'config': {}},\n",
       "    'beta_regularizer': None,\n",
       "    'center': True,\n",
       "    'epsilon': 0.001,\n",
       "    'gamma_constraint': None,\n",
       "    'gamma_initializer': {'class_name': 'Ones', 'config': {}},\n",
       "    'gamma_regularizer': None,\n",
       "    'momentum': 0.99,\n",
       "    'moving_mean_initializer': {'class_name': 'Zeros', 'config': {}},\n",
       "    'moving_variance_initializer': {'class_name': 'Ones', 'config': {}},\n",
       "    'name': 'norm_2_0',\n",
       "    'scale': True,\n",
       "    'trainable': True},\n",
       "   'inbound_nodes': [[['conv2D_2_0', 0, 0, {}]]],\n",
       "   'name': 'norm_2_0'},\n",
       "  {'class_name': 'Activation',\n",
       "   'config': {'activation': 'relu', 'name': 'active_2_0', 'trainable': True},\n",
       "   'inbound_nodes': [[['norm_2_0', 0, 0, {}]]],\n",
       "   'name': 'active_2_0'},\n",
       "  {'class_name': 'MaxPooling2D',\n",
       "   'config': {'data_format': 'channels_last',\n",
       "    'name': 'Max_pool0',\n",
       "    'padding': 'valid',\n",
       "    'pool_size': (2, 2),\n",
       "    'strides': (2, 2),\n",
       "    'trainable': True},\n",
       "   'inbound_nodes': [[['active_2_0', 0, 0, {}]]],\n",
       "   'name': 'Max_pool0'},\n",
       "  {'class_name': 'Conv2D',\n",
       "   'config': {'activation': 'linear',\n",
       "    'activity_regularizer': None,\n",
       "    'bias_constraint': None,\n",
       "    'bias_initializer': {'class_name': 'Zeros', 'config': {}},\n",
       "    'bias_regularizer': None,\n",
       "    'data_format': 'channels_last',\n",
       "    'dilation_rate': (1, 1),\n",
       "    'filters': 64,\n",
       "    'kernel_constraint': None,\n",
       "    'kernel_initializer': {'class_name': 'VarianceScaling',\n",
       "     'config': {'distribution': 'uniform',\n",
       "      'mode': 'fan_avg',\n",
       "      'scale': 1.0,\n",
       "      'seed': None}},\n",
       "    'kernel_regularizer': None,\n",
       "    'kernel_size': (3, 3),\n",
       "    'name': 'conv2D_1_1',\n",
       "    'padding': 'same',\n",
       "    'strides': (1, 1),\n",
       "    'trainable': True,\n",
       "    'use_bias': True},\n",
       "   'inbound_nodes': [[['Max_pool0', 0, 0, {}]]],\n",
       "   'name': 'conv2D_1_1'},\n",
       "  {'class_name': 'BatchNormalization',\n",
       "   'config': {'axis': 3,\n",
       "    'beta_constraint': None,\n",
       "    'beta_initializer': {'class_name': 'Zeros', 'config': {}},\n",
       "    'beta_regularizer': None,\n",
       "    'center': True,\n",
       "    'epsilon': 0.001,\n",
       "    'gamma_constraint': None,\n",
       "    'gamma_initializer': {'class_name': 'Ones', 'config': {}},\n",
       "    'gamma_regularizer': None,\n",
       "    'momentum': 0.99,\n",
       "    'moving_mean_initializer': {'class_name': 'Zeros', 'config': {}},\n",
       "    'moving_variance_initializer': {'class_name': 'Ones', 'config': {}},\n",
       "    'name': 'norm_1_1',\n",
       "    'scale': True,\n",
       "    'trainable': True},\n",
       "   'inbound_nodes': [[['conv2D_1_1', 0, 0, {}]]],\n",
       "   'name': 'norm_1_1'},\n",
       "  {'class_name': 'Activation',\n",
       "   'config': {'activation': 'relu', 'name': 'active_1_1', 'trainable': True},\n",
       "   'inbound_nodes': [[['norm_1_1', 0, 0, {}]]],\n",
       "   'name': 'active_1_1'},\n",
       "  {'class_name': 'Conv2D',\n",
       "   'config': {'activation': 'linear',\n",
       "    'activity_regularizer': None,\n",
       "    'bias_constraint': None,\n",
       "    'bias_initializer': {'class_name': 'Zeros', 'config': {}},\n",
       "    'bias_regularizer': None,\n",
       "    'data_format': 'channels_last',\n",
       "    'dilation_rate': (1, 1),\n",
       "    'filters': 64,\n",
       "    'kernel_constraint': None,\n",
       "    'kernel_initializer': {'class_name': 'VarianceScaling',\n",
       "     'config': {'distribution': 'uniform',\n",
       "      'mode': 'fan_avg',\n",
       "      'scale': 1.0,\n",
       "      'seed': None}},\n",
       "    'kernel_regularizer': None,\n",
       "    'kernel_size': (3, 3),\n",
       "    'name': 'conv2D_2_1',\n",
       "    'padding': 'same',\n",
       "    'strides': (1, 1),\n",
       "    'trainable': True,\n",
       "    'use_bias': True},\n",
       "   'inbound_nodes': [[['active_1_1', 0, 0, {}]]],\n",
       "   'name': 'conv2D_2_1'},\n",
       "  {'class_name': 'BatchNormalization',\n",
       "   'config': {'axis': 3,\n",
       "    'beta_constraint': None,\n",
       "    'beta_initializer': {'class_name': 'Zeros', 'config': {}},\n",
       "    'beta_regularizer': None,\n",
       "    'center': True,\n",
       "    'epsilon': 0.001,\n",
       "    'gamma_constraint': None,\n",
       "    'gamma_initializer': {'class_name': 'Ones', 'config': {}},\n",
       "    'gamma_regularizer': None,\n",
       "    'momentum': 0.99,\n",
       "    'moving_mean_initializer': {'class_name': 'Zeros', 'config': {}},\n",
       "    'moving_variance_initializer': {'class_name': 'Ones', 'config': {}},\n",
       "    'name': 'norm_2_1',\n",
       "    'scale': True,\n",
       "    'trainable': True},\n",
       "   'inbound_nodes': [[['conv2D_2_1', 0, 0, {}]]],\n",
       "   'name': 'norm_2_1'},\n",
       "  {'class_name': 'Activation',\n",
       "   'config': {'activation': 'relu', 'name': 'active_2_1', 'trainable': True},\n",
       "   'inbound_nodes': [[['norm_2_1', 0, 0, {}]]],\n",
       "   'name': 'active_2_1'},\n",
       "  {'class_name': 'MaxPooling2D',\n",
       "   'config': {'data_format': 'channels_last',\n",
       "    'name': 'Max_pool1',\n",
       "    'padding': 'valid',\n",
       "    'pool_size': (2, 2),\n",
       "    'strides': (2, 2),\n",
       "    'trainable': True},\n",
       "   'inbound_nodes': [[['active_2_1', 0, 0, {}]]],\n",
       "   'name': 'Max_pool1'},\n",
       "  {'class_name': 'Conv2D',\n",
       "   'config': {'activation': 'linear',\n",
       "    'activity_regularizer': None,\n",
       "    'bias_constraint': None,\n",
       "    'bias_initializer': {'class_name': 'Zeros', 'config': {}},\n",
       "    'bias_regularizer': None,\n",
       "    'data_format': 'channels_last',\n",
       "    'dilation_rate': (1, 1),\n",
       "    'filters': 128,\n",
       "    'kernel_constraint': None,\n",
       "    'kernel_initializer': {'class_name': 'VarianceScaling',\n",
       "     'config': {'distribution': 'uniform',\n",
       "      'mode': 'fan_avg',\n",
       "      'scale': 1.0,\n",
       "      'seed': None}},\n",
       "    'kernel_regularizer': None,\n",
       "    'kernel_size': (3, 3),\n",
       "    'name': 'conv2D_1_2',\n",
       "    'padding': 'same',\n",
       "    'strides': (1, 1),\n",
       "    'trainable': True,\n",
       "    'use_bias': True},\n",
       "   'inbound_nodes': [[['Max_pool1', 0, 0, {}]]],\n",
       "   'name': 'conv2D_1_2'},\n",
       "  {'class_name': 'BatchNormalization',\n",
       "   'config': {'axis': 3,\n",
       "    'beta_constraint': None,\n",
       "    'beta_initializer': {'class_name': 'Zeros', 'config': {}},\n",
       "    'beta_regularizer': None,\n",
       "    'center': True,\n",
       "    'epsilon': 0.001,\n",
       "    'gamma_constraint': None,\n",
       "    'gamma_initializer': {'class_name': 'Ones', 'config': {}},\n",
       "    'gamma_regularizer': None,\n",
       "    'momentum': 0.99,\n",
       "    'moving_mean_initializer': {'class_name': 'Zeros', 'config': {}},\n",
       "    'moving_variance_initializer': {'class_name': 'Ones', 'config': {}},\n",
       "    'name': 'norm_1_2',\n",
       "    'scale': True,\n",
       "    'trainable': True},\n",
       "   'inbound_nodes': [[['conv2D_1_2', 0, 0, {}]]],\n",
       "   'name': 'norm_1_2'},\n",
       "  {'class_name': 'Activation',\n",
       "   'config': {'activation': 'relu', 'name': 'active_1_2', 'trainable': True},\n",
       "   'inbound_nodes': [[['norm_1_2', 0, 0, {}]]],\n",
       "   'name': 'active_1_2'},\n",
       "  {'class_name': 'Conv2D',\n",
       "   'config': {'activation': 'linear',\n",
       "    'activity_regularizer': None,\n",
       "    'bias_constraint': None,\n",
       "    'bias_initializer': {'class_name': 'Zeros', 'config': {}},\n",
       "    'bias_regularizer': None,\n",
       "    'data_format': 'channels_last',\n",
       "    'dilation_rate': (1, 1),\n",
       "    'filters': 128,\n",
       "    'kernel_constraint': None,\n",
       "    'kernel_initializer': {'class_name': 'VarianceScaling',\n",
       "     'config': {'distribution': 'uniform',\n",
       "      'mode': 'fan_avg',\n",
       "      'scale': 1.0,\n",
       "      'seed': None}},\n",
       "    'kernel_regularizer': None,\n",
       "    'kernel_size': (3, 3),\n",
       "    'name': 'conv2D_2_2',\n",
       "    'padding': 'same',\n",
       "    'strides': (1, 1),\n",
       "    'trainable': True,\n",
       "    'use_bias': True},\n",
       "   'inbound_nodes': [[['active_1_2', 0, 0, {}]]],\n",
       "   'name': 'conv2D_2_2'},\n",
       "  {'class_name': 'BatchNormalization',\n",
       "   'config': {'axis': 3,\n",
       "    'beta_constraint': None,\n",
       "    'beta_initializer': {'class_name': 'Zeros', 'config': {}},\n",
       "    'beta_regularizer': None,\n",
       "    'center': True,\n",
       "    'epsilon': 0.001,\n",
       "    'gamma_constraint': None,\n",
       "    'gamma_initializer': {'class_name': 'Ones', 'config': {}},\n",
       "    'gamma_regularizer': None,\n",
       "    'momentum': 0.99,\n",
       "    'moving_mean_initializer': {'class_name': 'Zeros', 'config': {}},\n",
       "    'moving_variance_initializer': {'class_name': 'Ones', 'config': {}},\n",
       "    'name': 'norm_2_2',\n",
       "    'scale': True,\n",
       "    'trainable': True},\n",
       "   'inbound_nodes': [[['conv2D_2_2', 0, 0, {}]]],\n",
       "   'name': 'norm_2_2'},\n",
       "  {'class_name': 'Activation',\n",
       "   'config': {'activation': 'relu', 'name': 'active_2_2', 'trainable': True},\n",
       "   'inbound_nodes': [[['norm_2_2', 0, 0, {}]]],\n",
       "   'name': 'active_2_2'},\n",
       "  {'class_name': 'MaxPooling2D',\n",
       "   'config': {'data_format': 'channels_last',\n",
       "    'name': 'Max_pool2',\n",
       "    'padding': 'valid',\n",
       "    'pool_size': (2, 2),\n",
       "    'strides': (2, 2),\n",
       "    'trainable': True},\n",
       "   'inbound_nodes': [[['active_2_2', 0, 0, {}]]],\n",
       "   'name': 'Max_pool2'},\n",
       "  {'class_name': 'Conv2D',\n",
       "   'config': {'activation': 'linear',\n",
       "    'activity_regularizer': None,\n",
       "    'bias_constraint': None,\n",
       "    'bias_initializer': {'class_name': 'Zeros', 'config': {}},\n",
       "    'bias_regularizer': None,\n",
       "    'data_format': 'channels_last',\n",
       "    'dilation_rate': (1, 1),\n",
       "    'filters': 256,\n",
       "    'kernel_constraint': None,\n",
       "    'kernel_initializer': {'class_name': 'VarianceScaling',\n",
       "     'config': {'distribution': 'uniform',\n",
       "      'mode': 'fan_avg',\n",
       "      'scale': 1.0,\n",
       "      'seed': None}},\n",
       "    'kernel_regularizer': None,\n",
       "    'kernel_size': (3, 3),\n",
       "    'name': 'conv2D_1_3',\n",
       "    'padding': 'same',\n",
       "    'strides': (1, 1),\n",
       "    'trainable': True,\n",
       "    'use_bias': True},\n",
       "   'inbound_nodes': [[['Max_pool2', 0, 0, {}]]],\n",
       "   'name': 'conv2D_1_3'},\n",
       "  {'class_name': 'BatchNormalization',\n",
       "   'config': {'axis': 3,\n",
       "    'beta_constraint': None,\n",
       "    'beta_initializer': {'class_name': 'Zeros', 'config': {}},\n",
       "    'beta_regularizer': None,\n",
       "    'center': True,\n",
       "    'epsilon': 0.001,\n",
       "    'gamma_constraint': None,\n",
       "    'gamma_initializer': {'class_name': 'Ones', 'config': {}},\n",
       "    'gamma_regularizer': None,\n",
       "    'momentum': 0.99,\n",
       "    'moving_mean_initializer': {'class_name': 'Zeros', 'config': {}},\n",
       "    'moving_variance_initializer': {'class_name': 'Ones', 'config': {}},\n",
       "    'name': 'norm_1_3',\n",
       "    'scale': True,\n",
       "    'trainable': True},\n",
       "   'inbound_nodes': [[['conv2D_1_3', 0, 0, {}]]],\n",
       "   'name': 'norm_1_3'},\n",
       "  {'class_name': 'Activation',\n",
       "   'config': {'activation': 'relu', 'name': 'active_1_3', 'trainable': True},\n",
       "   'inbound_nodes': [[['norm_1_3', 0, 0, {}]]],\n",
       "   'name': 'active_1_3'},\n",
       "  {'class_name': 'Conv2D',\n",
       "   'config': {'activation': 'linear',\n",
       "    'activity_regularizer': None,\n",
       "    'bias_constraint': None,\n",
       "    'bias_initializer': {'class_name': 'Zeros', 'config': {}},\n",
       "    'bias_regularizer': None,\n",
       "    'data_format': 'channels_last',\n",
       "    'dilation_rate': (1, 1),\n",
       "    'filters': 256,\n",
       "    'kernel_constraint': None,\n",
       "    'kernel_initializer': {'class_name': 'VarianceScaling',\n",
       "     'config': {'distribution': 'uniform',\n",
       "      'mode': 'fan_avg',\n",
       "      'scale': 1.0,\n",
       "      'seed': None}},\n",
       "    'kernel_regularizer': None,\n",
       "    'kernel_size': (3, 3),\n",
       "    'name': 'conv2D_2_3',\n",
       "    'padding': 'same',\n",
       "    'strides': (1, 1),\n",
       "    'trainable': True,\n",
       "    'use_bias': True},\n",
       "   'inbound_nodes': [[['active_1_3', 0, 0, {}]]],\n",
       "   'name': 'conv2D_2_3'},\n",
       "  {'class_name': 'BatchNormalization',\n",
       "   'config': {'axis': 3,\n",
       "    'beta_constraint': None,\n",
       "    'beta_initializer': {'class_name': 'Zeros', 'config': {}},\n",
       "    'beta_regularizer': None,\n",
       "    'center': True,\n",
       "    'epsilon': 0.001,\n",
       "    'gamma_constraint': None,\n",
       "    'gamma_initializer': {'class_name': 'Ones', 'config': {}},\n",
       "    'gamma_regularizer': None,\n",
       "    'momentum': 0.99,\n",
       "    'moving_mean_initializer': {'class_name': 'Zeros', 'config': {}},\n",
       "    'moving_variance_initializer': {'class_name': 'Ones', 'config': {}},\n",
       "    'name': 'norm_2_3',\n",
       "    'scale': True,\n",
       "    'trainable': True},\n",
       "   'inbound_nodes': [[['conv2D_2_3', 0, 0, {}]]],\n",
       "   'name': 'norm_2_3'},\n",
       "  {'class_name': 'Activation',\n",
       "   'config': {'activation': 'relu', 'name': 'active_2_3', 'trainable': True},\n",
       "   'inbound_nodes': [[['norm_2_3', 0, 0, {}]]],\n",
       "   'name': 'active_2_3'},\n",
       "  {'class_name': 'MaxPooling2D',\n",
       "   'config': {'data_format': 'channels_last',\n",
       "    'name': 'Max_pool3',\n",
       "    'padding': 'valid',\n",
       "    'pool_size': (2, 2),\n",
       "    'strides': (2, 2),\n",
       "    'trainable': True},\n",
       "   'inbound_nodes': [[['active_2_3', 0, 0, {}]]],\n",
       "   'name': 'Max_pool3'},\n",
       "  {'class_name': 'Flatten',\n",
       "   'config': {'name': 'flatten_4', 'trainable': True},\n",
       "   'inbound_nodes': [[['Max_pool3', 0, 0, {}]]],\n",
       "   'name': 'flatten_4'},\n",
       "  {'class_name': 'Dense',\n",
       "   'config': {'activation': 'relu',\n",
       "    'activity_regularizer': None,\n",
       "    'bias_constraint': None,\n",
       "    'bias_initializer': {'class_name': 'Zeros', 'config': {}},\n",
       "    'bias_regularizer': None,\n",
       "    'kernel_constraint': None,\n",
       "    'kernel_initializer': {'class_name': 'VarianceScaling',\n",
       "     'config': {'distribution': 'uniform',\n",
       "      'mode': 'fan_avg',\n",
       "      'scale': 1.0,\n",
       "      'seed': None}},\n",
       "    'kernel_regularizer': None,\n",
       "    'name': 'Dense1',\n",
       "    'trainable': True,\n",
       "    'units': 512,\n",
       "    'use_bias': True},\n",
       "   'inbound_nodes': [[['flatten_4', 0, 0, {}]]],\n",
       "   'name': 'Dense1'},\n",
       "  {'class_name': 'Dense',\n",
       "   'config': {'activation': 'relu',\n",
       "    'activity_regularizer': None,\n",
       "    'bias_constraint': None,\n",
       "    'bias_initializer': {'class_name': 'Zeros', 'config': {}},\n",
       "    'bias_regularizer': None,\n",
       "    'kernel_constraint': None,\n",
       "    'kernel_initializer': {'class_name': 'VarianceScaling',\n",
       "     'config': {'distribution': 'uniform',\n",
       "      'mode': 'fan_avg',\n",
       "      'scale': 1.0,\n",
       "      'seed': None}},\n",
       "    'kernel_regularizer': None,\n",
       "    'name': 'Dense2',\n",
       "    'trainable': True,\n",
       "    'units': 512,\n",
       "    'use_bias': True},\n",
       "   'inbound_nodes': [[['Dense1', 0, 0, {}]]],\n",
       "   'name': 'Dense2'},\n",
       "  {'class_name': 'Dense',\n",
       "   'config': {'activation': 'softmax',\n",
       "    'activity_regularizer': None,\n",
       "    'bias_constraint': None,\n",
       "    'bias_initializer': {'class_name': 'Zeros', 'config': {}},\n",
       "    'bias_regularizer': None,\n",
       "    'kernel_constraint': None,\n",
       "    'kernel_initializer': {'class_name': 'VarianceScaling',\n",
       "     'config': {'distribution': 'uniform',\n",
       "      'mode': 'fan_avg',\n",
       "      'scale': 1.0,\n",
       "      'seed': None}},\n",
       "    'kernel_regularizer': None,\n",
       "    'name': 'ffc',\n",
       "    'trainable': True,\n",
       "    'units': 10,\n",
       "    'use_bias': True},\n",
       "   'inbound_nodes': [[['Dense2', 0, 0, {}]]],\n",
       "   'name': 'ffc'}],\n",
       " 'name': 'model_4',\n",
       " 'output_layers': [['ffc', 0, 0]]}"
      ]
     },
     "execution_count": 47,
     "metadata": {},
     "output_type": "execute_result"
    }
   ],
   "source": [
    "model.get_config()"
   ]
  },
  {
   "cell_type": "code",
   "execution_count": 48,
   "metadata": {
    "collapsed": true
   },
   "outputs": [],
   "source": [
    "df = pd.read_csv('train.csv')"
   ]
  },
  {
   "cell_type": "code",
   "execution_count": 49,
   "metadata": {
    "collapsed": true
   },
   "outputs": [],
   "source": [
    "label = df['label'].as_matrix()"
   ]
  },
  {
   "cell_type": "code",
   "execution_count": 50,
   "metadata": {},
   "outputs": [
    {
     "data": {
      "text/plain": [
       "(42000,)"
      ]
     },
     "execution_count": 50,
     "metadata": {},
     "output_type": "execute_result"
    }
   ],
   "source": [
    "label.shape"
   ]
  },
  {
   "cell_type": "code",
   "execution_count": 51,
   "metadata": {
    "collapsed": true
   },
   "outputs": [],
   "source": [
    "X = df.drop('label',axis=1).as_matrix()"
   ]
  },
  {
   "cell_type": "code",
   "execution_count": 52,
   "metadata": {},
   "outputs": [
    {
     "data": {
      "text/plain": [
       "(42000, 784)"
      ]
     },
     "execution_count": 52,
     "metadata": {},
     "output_type": "execute_result"
    }
   ],
   "source": [
    "X.shape"
   ]
  },
  {
   "cell_type": "code",
   "execution_count": 53,
   "metadata": {
    "collapsed": true
   },
   "outputs": [],
   "source": [
    "X1 = []\n",
    "for i in range(X.shape[0]):\n",
    "    X1.append(X[i,:].reshape(28,28,1))"
   ]
  },
  {
   "cell_type": "code",
   "execution_count": 54,
   "metadata": {
    "collapsed": true
   },
   "outputs": [],
   "source": [
    "resX = np.array(X1)"
   ]
  },
  {
   "cell_type": "code",
   "execution_count": 55,
   "metadata": {},
   "outputs": [
    {
     "data": {
      "text/plain": [
       "(42000, 28, 28, 1)"
      ]
     },
     "execution_count": 55,
     "metadata": {},
     "output_type": "execute_result"
    }
   ],
   "source": [
    "resX.shape"
   ]
  },
  {
   "cell_type": "code",
   "execution_count": 56,
   "metadata": {},
   "outputs": [],
   "source": [
    "labels = []\n",
    "with tf.Session() as sess:\n",
    "    cl = tf.one_hot(label,10,axis=0)\n",
    "    labels = sess.run(cl)"
   ]
  },
  {
   "cell_type": "code",
   "execution_count": 57,
   "metadata": {
    "collapsed": true
   },
   "outputs": [],
   "source": [
    "labels = labels.T"
   ]
  },
  {
   "cell_type": "code",
   "execution_count": 58,
   "metadata": {},
   "outputs": [
    {
     "data": {
      "text/plain": [
       "(42000, 10)"
      ]
     },
     "execution_count": 58,
     "metadata": {},
     "output_type": "execute_result"
    }
   ],
   "source": [
    "labels.shape"
   ]
  },
  {
   "cell_type": "code",
   "execution_count": 59,
   "metadata": {
    "collapsed": true
   },
   "outputs": [],
   "source": [
    "model.compile(optimizer=keras.optimizers.Adam(),loss='categorical_crossentropy',metrics=[\"accuracy\"])"
   ]
  },
  {
   "cell_type": "code",
   "execution_count": 60,
   "metadata": {},
   "outputs": [
    {
     "data": {
      "text/plain": [
       "(4200, 10)"
      ]
     },
     "execution_count": 60,
     "metadata": {},
     "output_type": "execute_result"
    }
   ],
   "source": [
    "model.compute_output_shape((4200,28,28,1))"
   ]
  },
  {
   "cell_type": "code",
   "execution_count": 61,
   "metadata": {},
   "outputs": [
    {
     "name": "stdout",
     "output_type": "stream",
     "text": [
      "Epoch 1/100\n",
      "42000/42000 [==============================] - 355s - loss: 0.1321 - acc: 0.9612   \n",
      "Epoch 2/100\n",
      "42000/42000 [==============================] - 348s - loss: 0.0592 - acc: 0.9838   \n",
      "Epoch 3/100\n",
      "42000/42000 [==============================] - 346s - loss: 0.0489 - acc: 0.9866   \n",
      "Epoch 4/100\n",
      "42000/42000 [==============================] - 344s - loss: 0.0420 - acc: 0.9884   \n",
      "Epoch 5/100\n",
      "42000/42000 [==============================] - 344s - loss: 0.0359 - acc: 0.9900   \n",
      "Epoch 6/100\n",
      "42000/42000 [==============================] - 345s - loss: 0.0328 - acc: 0.9912   \n",
      "Epoch 7/100\n",
      "42000/42000 [==============================] - 349s - loss: 0.0285 - acc: 0.9929   \n",
      "Epoch 8/100\n",
      "42000/42000 [==============================] - 350s - loss: 0.0235 - acc: 0.9941   \n",
      "Epoch 9/100\n",
      "42000/42000 [==============================] - 349s - loss: 0.0223 - acc: 0.9938   \n",
      "Epoch 10/100\n",
      "42000/42000 [==============================] - 348s - loss: 0.0201 - acc: 0.9944   \n",
      "Epoch 11/100\n",
      "42000/42000 [==============================] - 349s - loss: 0.0184 - acc: 0.9954   \n",
      "Epoch 12/100\n",
      "42000/42000 [==============================] - 347s - loss: 0.0167 - acc: 0.9955   \n",
      "Epoch 13/100\n",
      "42000/42000 [==============================] - 349s - loss: 0.0172 - acc: 0.9955   \n",
      "Epoch 14/100\n",
      "42000/42000 [==============================] - 346s - loss: 0.0155 - acc: 0.9957   \n",
      "Epoch 15/100\n",
      "42000/42000 [==============================] - 345s - loss: 0.0120 - acc: 0.9970   \n",
      "Epoch 16/100\n",
      "42000/42000 [==============================] - 350s - loss: 0.0134 - acc: 0.9959   \n",
      "Epoch 17/100\n",
      "42000/42000 [==============================] - 344s - loss: 0.0094 - acc: 0.9975   \n",
      "Epoch 18/100\n",
      "42000/42000 [==============================] - 344s - loss: 0.0132 - acc: 0.9965   \n",
      "Epoch 19/100\n",
      "42000/42000 [==============================] - 343s - loss: 0.0115 - acc: 0.9970   \n",
      "Epoch 20/100\n",
      "42000/42000 [==============================] - 352s - loss: 0.0103 - acc: 0.9973   \n",
      "Epoch 21/100\n",
      "42000/42000 [==============================] - 370s - loss: 0.0099 - acc: 0.9976   \n",
      "Epoch 22/100\n",
      "42000/42000 [==============================] - 342s - loss: 0.0091 - acc: 0.9976   \n",
      "Epoch 23/100\n",
      "42000/42000 [==============================] - 339s - loss: 0.0084 - acc: 0.9978   \n",
      "Epoch 24/100\n",
      "42000/42000 [==============================] - 354s - loss: 0.0071 - acc: 0.9978   \n",
      "Epoch 25/100\n",
      "42000/42000 [==============================] - 359s - loss: 0.0078 - acc: 0.9982   \n",
      "Epoch 26/100\n",
      "42000/42000 [==============================] - 543s - loss: 0.0077 - acc: 0.9983   \n",
      "Epoch 27/100\n",
      "42000/42000 [==============================] - 676s - loss: 0.0070 - acc: 0.9984   \n",
      "Epoch 28/100\n",
      "42000/42000 [==============================] - 663s - loss: 0.0100 - acc: 0.9974   \n",
      "Epoch 29/100\n",
      "42000/42000 [==============================] - 662s - loss: 0.0086 - acc: 0.9980   \n",
      "Epoch 30/100\n",
      "42000/42000 [==============================] - 644s - loss: 0.0065 - acc: 0.9986   \n",
      "Epoch 31/100\n",
      "42000/42000 [==============================] - 433s - loss: 0.0073 - acc: 0.9984   \n",
      "Epoch 32/100\n",
      "42000/42000 [==============================] - 428s - loss: 0.0072 - acc: 0.9980   \n",
      "Epoch 33/100\n",
      "42000/42000 [==============================] - 369s - loss: 0.0061 - acc: 0.9986   \n",
      "Epoch 34/100\n",
      "42000/42000 [==============================] - 368s - loss: 0.0108 - acc: 0.9977   \n",
      "Epoch 35/100\n",
      "42000/42000 [==============================] - 361s - loss: 0.0060 - acc: 0.9984   \n",
      "Epoch 36/100\n",
      "42000/42000 [==============================] - 604s - loss: 0.0064 - acc: 0.9986   \n",
      "Epoch 37/100\n",
      "42000/42000 [==============================] - 672s - loss: 0.0054 - acc: 0.9985   \n",
      "Epoch 38/100\n",
      "42000/42000 [==============================] - 675s - loss: 0.0078 - acc: 0.9983   \n",
      "Epoch 39/100\n",
      "42000/42000 [==============================] - 656s - loss: 0.0069 - acc: 0.9986   \n",
      "Epoch 40/100\n",
      "42000/42000 [==============================] - 576s - loss: 0.0053 - acc: 0.9990   \n",
      "Epoch 41/100\n",
      "42000/42000 [==============================] - 357s - loss: 0.0105 - acc: 0.9982   \n",
      "Epoch 42/100\n",
      "42000/42000 [==============================] - 346s - loss: 0.0043 - acc: 0.9990   \n",
      "Epoch 43/100\n",
      "42000/42000 [==============================] - 351s - loss: 0.0051 - acc: 0.9990   \n",
      "Epoch 44/100\n",
      "42000/42000 [==============================] - 362s - loss: 0.0057 - acc: 0.9986   \n",
      "Epoch 45/100\n",
      "42000/42000 [==============================] - 341s - loss: 0.0088 - acc: 0.9983   \n",
      "Epoch 46/100\n",
      "42000/42000 [==============================] - 344s - loss: 0.0047 - acc: 0.9989   \n",
      "Epoch 47/100\n",
      "42000/42000 [==============================] - 345s - loss: 0.0048 - acc: 0.9988   \n",
      "Epoch 48/100\n",
      "42000/42000 [==============================] - 354s - loss: 0.0091 - acc: 0.9982   \n",
      "Epoch 49/100\n",
      "42000/42000 [==============================] - 350s - loss: 0.0019 - acc: 0.9994   \n",
      "Epoch 50/100\n",
      "42000/42000 [==============================] - 344s - loss: 0.0052 - acc: 0.9986   \n",
      "Epoch 51/100\n",
      "42000/42000 [==============================] - 346s - loss: 0.0023 - acc: 0.9996   \n",
      "Epoch 52/100\n",
      "42000/42000 [==============================] - 348s - loss: 0.0111 - acc: 0.9981   \n",
      "Epoch 53/100\n",
      "42000/42000 [==============================] - 346s - loss: 0.0039 - acc: 0.9993   \n",
      "Epoch 54/100\n",
      "42000/42000 [==============================] - 344s - loss: 0.0023 - acc: 0.9995   \n",
      "Epoch 55/100\n",
      "42000/42000 [==============================] - 343s - loss: 0.0043 - acc: 0.9989   \n",
      "Epoch 56/100\n",
      "42000/42000 [==============================] - 345s - loss: 0.0086 - acc: 0.9986   \n",
      "Epoch 57/100\n",
      "42000/42000 [==============================] - 352s - loss: 0.0019 - acc: 0.9993   \n",
      "Epoch 58/100\n",
      "42000/42000 [==============================] - 391s - loss: 0.0021 - acc: 0.9995   \n",
      "Epoch 59/100\n",
      "42000/42000 [==============================] - 664s - loss: 0.0056 - acc: 0.9988   \n",
      "Epoch 60/100\n",
      "42000/42000 [==============================] - 543s - loss: 0.0043 - acc: 0.9992   \n",
      "Epoch 61/100\n",
      "42000/42000 [==============================] - 536s - loss: 0.0057 - acc: 0.9988   \n",
      "Epoch 62/100\n",
      "42000/42000 [==============================] - 537s - loss: 0.0046 - acc: 0.9990   \n",
      "Epoch 63/100\n",
      "42000/42000 [==============================] - 537s - loss: 0.0056 - acc: 0.9990   \n",
      "Epoch 64/100\n",
      "42000/42000 [==============================] - 536s - loss: 0.0018 - acc: 0.9995   \n",
      "Epoch 65/100\n",
      "42000/42000 [==============================] - 536s - loss: 0.0059 - acc: 0.9987   \n",
      "Epoch 66/100\n",
      "42000/42000 [==============================] - 536s - loss: 0.0032 - acc: 0.9992   \n",
      "Epoch 67/100\n",
      "42000/42000 [==============================] - 536s - loss: 0.0047 - acc: 0.9992   \n",
      "Epoch 68/100\n",
      "42000/42000 [==============================] - 536s - loss: 0.0018 - acc: 0.9996   \n",
      "Epoch 69/100\n",
      "42000/42000 [==============================] - 535s - loss: 0.0046 - acc: 0.9990   \n",
      "Epoch 70/100\n",
      "42000/42000 [==============================] - 537s - loss: 0.0046 - acc: 0.9991   \n",
      "Epoch 71/100\n",
      "42000/42000 [==============================] - 536s - loss: 0.0048 - acc: 0.9989   \n",
      "Epoch 72/100\n",
      "42000/42000 [==============================] - 537s - loss: 0.0027 - acc: 0.9994   \n",
      "Epoch 73/100\n",
      "42000/42000 [==============================] - 539s - loss: 0.0051 - acc: 0.9991   \n",
      "Epoch 74/100\n",
      "42000/42000 [==============================] - 537s - loss: 0.0026 - acc: 0.9995   \n",
      "Epoch 75/100\n",
      "42000/42000 [==============================] - 537s - loss: 0.0016 - acc: 0.9997   \n",
      "Epoch 76/100\n",
      "42000/42000 [==============================] - 536s - loss: 0.0073 - acc: 0.9986   \n",
      "Epoch 77/100\n",
      "42000/42000 [==============================] - 538s - loss: 0.0068 - acc: 0.9990   \n",
      "Epoch 78/100\n",
      "42000/42000 [==============================] - 537s - loss: 0.0032 - acc: 0.9994   \n",
      "Epoch 79/100\n",
      "42000/42000 [==============================] - 536s - loss: 0.0047 - acc: 0.9994   \n",
      "Epoch 80/100\n",
      "42000/42000 [==============================] - 537s - loss: 0.0059 - acc: 0.9989   \n",
      "Epoch 81/100\n",
      "42000/42000 [==============================] - 537s - loss: 0.0024 - acc: 0.9993   \n",
      "Epoch 82/100\n",
      "42000/42000 [==============================] - 535s - loss: 0.0037 - acc: 0.9993   \n",
      "Epoch 83/100\n",
      "42000/42000 [==============================] - 538s - loss: 9.8573e-04 - acc: 0.9998   \n",
      "Epoch 84/100\n",
      "42000/42000 [==============================] - 537s - loss: 0.0055 - acc: 0.9989   \n",
      "Epoch 85/100\n"
     ]
    },
    {
     "name": "stdout",
     "output_type": "stream",
     "text": [
      "42000/42000 [==============================] - 534s - loss: 0.0027 - acc: 0.9996   \n",
      "Epoch 86/100\n",
      "42000/42000 [==============================] - 533s - loss: 0.0051 - acc: 0.9993   \n",
      "Epoch 87/100\n",
      "42000/42000 [==============================] - 535s - loss: 0.0035 - acc: 0.9992   \n",
      "Epoch 88/100\n",
      "42000/42000 [==============================] - 533s - loss: 0.0020 - acc: 0.9995   \n",
      "Epoch 89/100\n",
      "42000/42000 [==============================] - 534s - loss: 0.0043 - acc: 0.9992   \n",
      "Epoch 90/100\n",
      "42000/42000 [==============================] - 534s - loss: 0.0044 - acc: 0.9992   \n",
      "Epoch 91/100\n",
      "42000/42000 [==============================] - 534s - loss: 0.0068 - acc: 0.9989   \n",
      "Epoch 92/100\n",
      "42000/42000 [==============================] - 533s - loss: 0.0053 - acc: 0.9992   \n",
      "Epoch 93/100\n",
      "42000/42000 [==============================] - 533s - loss: 0.0032 - acc: 0.9993   \n",
      "Epoch 94/100\n",
      "42000/42000 [==============================] - 534s - loss: 0.0031 - acc: 0.9994   \n",
      "Epoch 95/100\n",
      "42000/42000 [==============================] - 534s - loss: 0.0024 - acc: 0.9995   \n",
      "Epoch 96/100\n",
      "42000/42000 [==============================] - 534s - loss: 5.9218e-04 - acc: 0.9999   \n",
      "Epoch 97/100\n",
      "42000/42000 [==============================] - 535s - loss: 0.0066 - acc: 0.9986   \n",
      "Epoch 98/100\n",
      "42000/42000 [==============================] - 535s - loss: 0.0013 - acc: 0.9997   \n",
      "Epoch 99/100\n",
      "42000/42000 [==============================] - 533s - loss: 0.0044 - acc: 0.9993   \n",
      "Epoch 100/100\n",
      "42000/42000 [==============================] - 537s - loss: 0.0023 - acc: 0.9997   \n"
     ]
    },
    {
     "data": {
      "text/plain": [
       "<keras.callbacks.History at 0x1c1c85e9f98>"
      ]
     },
     "execution_count": 61,
     "metadata": {},
     "output_type": "execute_result"
    }
   ],
   "source": [
    "model.fit(x=resX,y=labels,epochs=100,batch_size=32)"
   ]
  },
  {
   "cell_type": "code",
   "execution_count": 62,
   "metadata": {
    "collapsed": true
   },
   "outputs": [],
   "source": [
    "model.save('VGGLong.h5')"
   ]
  },
  {
   "cell_type": "code",
   "execution_count": null,
   "metadata": {
    "collapsed": true
   },
   "outputs": [],
   "source": []
  },
  {
   "cell_type": "code",
   "execution_count": 16,
   "metadata": {},
   "outputs": [],
   "source": [
    "dfU = pd.read_csv(\"test.csv\")"
   ]
  },
  {
   "cell_type": "code",
   "execution_count": 17,
   "metadata": {
    "collapsed": true
   },
   "outputs": [],
   "source": [
    "inputA = dfU.as_matrix()"
   ]
  },
  {
   "cell_type": "code",
   "execution_count": 18,
   "metadata": {},
   "outputs": [
    {
     "data": {
      "text/plain": [
       "(28000, 784)"
      ]
     },
     "execution_count": 18,
     "metadata": {},
     "output_type": "execute_result"
    }
   ],
   "source": [
    "inputA.shape"
   ]
  },
  {
   "cell_type": "code",
   "execution_count": 19,
   "metadata": {
    "collapsed": true
   },
   "outputs": [],
   "source": [
    "X2 = []\n",
    "for i in range(inputA.shape[0]):\n",
    "    X2.append(inputA[i,:].reshape(28,28,1))"
   ]
  },
  {
   "cell_type": "code",
   "execution_count": 20,
   "metadata": {
    "collapsed": true
   },
   "outputs": [],
   "source": [
    "inputA = np.array(X2)"
   ]
  },
  {
   "cell_type": "code",
   "execution_count": 22,
   "metadata": {},
   "outputs": [],
   "source": [
    "res = model.predict(inputA)"
   ]
  },
  {
   "cell_type": "code",
   "execution_count": 23,
   "metadata": {},
   "outputs": [
    {
     "data": {
      "text/plain": [
       "(28000, 28, 28, 1)"
      ]
     },
     "execution_count": 23,
     "metadata": {},
     "output_type": "execute_result"
    }
   ],
   "source": [
    "res.shape"
   ]
  },
  {
   "cell_type": "code",
   "execution_count": null,
   "metadata": {
    "collapsed": true
   },
   "outputs": [],
   "source": []
  }
 ],
 "metadata": {
  "kernelspec": {
   "display_name": "Python 3",
   "language": "python",
   "name": "python3"
  },
  "language_info": {
   "codemirror_mode": {
    "name": "ipython",
    "version": 3
   },
   "file_extension": ".py",
   "mimetype": "text/x-python",
   "name": "python",
   "nbconvert_exporter": "python",
   "pygments_lexer": "ipython3",
   "version": "3.6.2"
  }
 },
 "nbformat": 4,
 "nbformat_minor": 2
}
