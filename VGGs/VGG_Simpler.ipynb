{
 "cells": [
  {
   "cell_type": "code",
   "execution_count": 17,
   "metadata": {
    "collapsed": true
   },
   "outputs": [],
   "source": [
    "import numpy as np\n",
    "from keras import layers\n",
    "from keras.layers import Input, Dense, Activation, ZeroPadding2D, BatchNormalization, Flatten, Conv2D\n",
    "from keras.layers import AveragePooling2D, MaxPooling2D, Dropout, GlobalMaxPooling2D, GlobalAveragePooling2D\n",
    "from keras.models import Model\n",
    "from keras.preprocessing import image\n",
    "from keras.utils import layer_utils\n",
    "from keras.utils.data_utils import get_file\n",
    "from keras.applications.imagenet_utils import preprocess_input\n",
    "import pydot\n",
    "from IPython.display import SVG\n",
    "from keras.utils.vis_utils import model_to_dot\n",
    "from keras.utils import plot_model\n",
    "\n",
    "\n",
    "import keras.backend as K\n",
    "K.set_image_data_format('channels_last')\n",
    "import matplotlib.pyplot as plt\n",
    "from matplotlib.pyplot import imshow\n",
    "\n",
    "import tensorflow as tf\n",
    "import pandas as pd\n",
    "import keras\n",
    "\n",
    "%matplotlib inline"
   ]
  },
  {
   "cell_type": "code",
   "execution_count": 2,
   "metadata": {
    "collapsed": true
   },
   "outputs": [],
   "source": [
    "def VGGONE(shape):\n",
    "    X_input= Input(shape)\n",
    "    X = X_input\n",
    "    for i in range(4):\n",
    "        X = Conv2D(filters=2**(i+5),kernel_size=(3,3),strides=(1,1),padding='same',name='conv2D_1_'+str(i))(X)\n",
    "        X = BatchNormalization(axis=3,name='norm_1_'+str(i))(X)\n",
    "        X = Activation('relu',name='active_1_'+str(i))(X)\n",
    "        X = Conv2D(filters=2**(i+5),kernel_size=(3,3),strides=(1,1),padding='same',name='conv2D_2_'+str(i))(X)\n",
    "        X = BatchNormalization(axis=3,name='norm_2_'+str(i))(X)\n",
    "        X = Activation('relu',name='active_2_'+str(i))(X)\n",
    "        X = MaxPooling2D(pool_size=(2,2),strides=(2,2),name='Max_pool'+str(i))(X)\n",
    "    X = Flatten()(X)\n",
    "    X = Dense(units=512,activation='relu',name='Dense1')(X)\n",
    "    X = Dense(units=10,activation='softmax',name='ffc')(X)\n",
    "    \n",
    "    model = Model(inputs=X_input,outputs=X)\n",
    "    \n",
    "    return model\n"
   ]
  },
  {
   "cell_type": "code",
   "execution_count": 3,
   "metadata": {
    "collapsed": true
   },
   "outputs": [],
   "source": [
    "model = VGGONE([28,28,1])"
   ]
  },
  {
   "cell_type": "code",
   "execution_count": 4,
   "metadata": {},
   "outputs": [
    {
     "data": {
      "text/plain": [
       "{'input_layers': [['input_1', 0, 0]],\n",
       " 'layers': [{'class_name': 'InputLayer',\n",
       "   'config': {'batch_input_shape': (None, 28, 28, 1),\n",
       "    'dtype': 'float32',\n",
       "    'name': 'input_1',\n",
       "    'sparse': False},\n",
       "   'inbound_nodes': [],\n",
       "   'name': 'input_1'},\n",
       "  {'class_name': 'Conv2D',\n",
       "   'config': {'activation': 'linear',\n",
       "    'activity_regularizer': None,\n",
       "    'bias_constraint': None,\n",
       "    'bias_initializer': {'class_name': 'Zeros', 'config': {}},\n",
       "    'bias_regularizer': None,\n",
       "    'data_format': 'channels_last',\n",
       "    'dilation_rate': (1, 1),\n",
       "    'filters': 32,\n",
       "    'kernel_constraint': None,\n",
       "    'kernel_initializer': {'class_name': 'VarianceScaling',\n",
       "     'config': {'distribution': 'uniform',\n",
       "      'mode': 'fan_avg',\n",
       "      'scale': 1.0,\n",
       "      'seed': None}},\n",
       "    'kernel_regularizer': None,\n",
       "    'kernel_size': (3, 3),\n",
       "    'name': 'conv2D_1_0',\n",
       "    'padding': 'same',\n",
       "    'strides': (1, 1),\n",
       "    'trainable': True,\n",
       "    'use_bias': True},\n",
       "   'inbound_nodes': [[['input_1', 0, 0, {}]]],\n",
       "   'name': 'conv2D_1_0'},\n",
       "  {'class_name': 'BatchNormalization',\n",
       "   'config': {'axis': 3,\n",
       "    'beta_constraint': None,\n",
       "    'beta_initializer': {'class_name': 'Zeros', 'config': {}},\n",
       "    'beta_regularizer': None,\n",
       "    'center': True,\n",
       "    'epsilon': 0.001,\n",
       "    'gamma_constraint': None,\n",
       "    'gamma_initializer': {'class_name': 'Ones', 'config': {}},\n",
       "    'gamma_regularizer': None,\n",
       "    'momentum': 0.99,\n",
       "    'moving_mean_initializer': {'class_name': 'Zeros', 'config': {}},\n",
       "    'moving_variance_initializer': {'class_name': 'Ones', 'config': {}},\n",
       "    'name': 'norm_1_0',\n",
       "    'scale': True,\n",
       "    'trainable': True},\n",
       "   'inbound_nodes': [[['conv2D_1_0', 0, 0, {}]]],\n",
       "   'name': 'norm_1_0'},\n",
       "  {'class_name': 'Activation',\n",
       "   'config': {'activation': 'relu', 'name': 'active_1_0', 'trainable': True},\n",
       "   'inbound_nodes': [[['norm_1_0', 0, 0, {}]]],\n",
       "   'name': 'active_1_0'},\n",
       "  {'class_name': 'Conv2D',\n",
       "   'config': {'activation': 'linear',\n",
       "    'activity_regularizer': None,\n",
       "    'bias_constraint': None,\n",
       "    'bias_initializer': {'class_name': 'Zeros', 'config': {}},\n",
       "    'bias_regularizer': None,\n",
       "    'data_format': 'channels_last',\n",
       "    'dilation_rate': (1, 1),\n",
       "    'filters': 32,\n",
       "    'kernel_constraint': None,\n",
       "    'kernel_initializer': {'class_name': 'VarianceScaling',\n",
       "     'config': {'distribution': 'uniform',\n",
       "      'mode': 'fan_avg',\n",
       "      'scale': 1.0,\n",
       "      'seed': None}},\n",
       "    'kernel_regularizer': None,\n",
       "    'kernel_size': (3, 3),\n",
       "    'name': 'conv2D_2_0',\n",
       "    'padding': 'same',\n",
       "    'strides': (1, 1),\n",
       "    'trainable': True,\n",
       "    'use_bias': True},\n",
       "   'inbound_nodes': [[['active_1_0', 0, 0, {}]]],\n",
       "   'name': 'conv2D_2_0'},\n",
       "  {'class_name': 'BatchNormalization',\n",
       "   'config': {'axis': 3,\n",
       "    'beta_constraint': None,\n",
       "    'beta_initializer': {'class_name': 'Zeros', 'config': {}},\n",
       "    'beta_regularizer': None,\n",
       "    'center': True,\n",
       "    'epsilon': 0.001,\n",
       "    'gamma_constraint': None,\n",
       "    'gamma_initializer': {'class_name': 'Ones', 'config': {}},\n",
       "    'gamma_regularizer': None,\n",
       "    'momentum': 0.99,\n",
       "    'moving_mean_initializer': {'class_name': 'Zeros', 'config': {}},\n",
       "    'moving_variance_initializer': {'class_name': 'Ones', 'config': {}},\n",
       "    'name': 'norm_2_0',\n",
       "    'scale': True,\n",
       "    'trainable': True},\n",
       "   'inbound_nodes': [[['conv2D_2_0', 0, 0, {}]]],\n",
       "   'name': 'norm_2_0'},\n",
       "  {'class_name': 'Activation',\n",
       "   'config': {'activation': 'relu', 'name': 'active_2_0', 'trainable': True},\n",
       "   'inbound_nodes': [[['norm_2_0', 0, 0, {}]]],\n",
       "   'name': 'active_2_0'},\n",
       "  {'class_name': 'MaxPooling2D',\n",
       "   'config': {'data_format': 'channels_last',\n",
       "    'name': 'Max_pool0',\n",
       "    'padding': 'valid',\n",
       "    'pool_size': (2, 2),\n",
       "    'strides': (2, 2),\n",
       "    'trainable': True},\n",
       "   'inbound_nodes': [[['active_2_0', 0, 0, {}]]],\n",
       "   'name': 'Max_pool0'},\n",
       "  {'class_name': 'Conv2D',\n",
       "   'config': {'activation': 'linear',\n",
       "    'activity_regularizer': None,\n",
       "    'bias_constraint': None,\n",
       "    'bias_initializer': {'class_name': 'Zeros', 'config': {}},\n",
       "    'bias_regularizer': None,\n",
       "    'data_format': 'channels_last',\n",
       "    'dilation_rate': (1, 1),\n",
       "    'filters': 64,\n",
       "    'kernel_constraint': None,\n",
       "    'kernel_initializer': {'class_name': 'VarianceScaling',\n",
       "     'config': {'distribution': 'uniform',\n",
       "      'mode': 'fan_avg',\n",
       "      'scale': 1.0,\n",
       "      'seed': None}},\n",
       "    'kernel_regularizer': None,\n",
       "    'kernel_size': (3, 3),\n",
       "    'name': 'conv2D_1_1',\n",
       "    'padding': 'same',\n",
       "    'strides': (1, 1),\n",
       "    'trainable': True,\n",
       "    'use_bias': True},\n",
       "   'inbound_nodes': [[['Max_pool0', 0, 0, {}]]],\n",
       "   'name': 'conv2D_1_1'},\n",
       "  {'class_name': 'BatchNormalization',\n",
       "   'config': {'axis': 3,\n",
       "    'beta_constraint': None,\n",
       "    'beta_initializer': {'class_name': 'Zeros', 'config': {}},\n",
       "    'beta_regularizer': None,\n",
       "    'center': True,\n",
       "    'epsilon': 0.001,\n",
       "    'gamma_constraint': None,\n",
       "    'gamma_initializer': {'class_name': 'Ones', 'config': {}},\n",
       "    'gamma_regularizer': None,\n",
       "    'momentum': 0.99,\n",
       "    'moving_mean_initializer': {'class_name': 'Zeros', 'config': {}},\n",
       "    'moving_variance_initializer': {'class_name': 'Ones', 'config': {}},\n",
       "    'name': 'norm_1_1',\n",
       "    'scale': True,\n",
       "    'trainable': True},\n",
       "   'inbound_nodes': [[['conv2D_1_1', 0, 0, {}]]],\n",
       "   'name': 'norm_1_1'},\n",
       "  {'class_name': 'Activation',\n",
       "   'config': {'activation': 'relu', 'name': 'active_1_1', 'trainable': True},\n",
       "   'inbound_nodes': [[['norm_1_1', 0, 0, {}]]],\n",
       "   'name': 'active_1_1'},\n",
       "  {'class_name': 'Conv2D',\n",
       "   'config': {'activation': 'linear',\n",
       "    'activity_regularizer': None,\n",
       "    'bias_constraint': None,\n",
       "    'bias_initializer': {'class_name': 'Zeros', 'config': {}},\n",
       "    'bias_regularizer': None,\n",
       "    'data_format': 'channels_last',\n",
       "    'dilation_rate': (1, 1),\n",
       "    'filters': 64,\n",
       "    'kernel_constraint': None,\n",
       "    'kernel_initializer': {'class_name': 'VarianceScaling',\n",
       "     'config': {'distribution': 'uniform',\n",
       "      'mode': 'fan_avg',\n",
       "      'scale': 1.0,\n",
       "      'seed': None}},\n",
       "    'kernel_regularizer': None,\n",
       "    'kernel_size': (3, 3),\n",
       "    'name': 'conv2D_2_1',\n",
       "    'padding': 'same',\n",
       "    'strides': (1, 1),\n",
       "    'trainable': True,\n",
       "    'use_bias': True},\n",
       "   'inbound_nodes': [[['active_1_1', 0, 0, {}]]],\n",
       "   'name': 'conv2D_2_1'},\n",
       "  {'class_name': 'BatchNormalization',\n",
       "   'config': {'axis': 3,\n",
       "    'beta_constraint': None,\n",
       "    'beta_initializer': {'class_name': 'Zeros', 'config': {}},\n",
       "    'beta_regularizer': None,\n",
       "    'center': True,\n",
       "    'epsilon': 0.001,\n",
       "    'gamma_constraint': None,\n",
       "    'gamma_initializer': {'class_name': 'Ones', 'config': {}},\n",
       "    'gamma_regularizer': None,\n",
       "    'momentum': 0.99,\n",
       "    'moving_mean_initializer': {'class_name': 'Zeros', 'config': {}},\n",
       "    'moving_variance_initializer': {'class_name': 'Ones', 'config': {}},\n",
       "    'name': 'norm_2_1',\n",
       "    'scale': True,\n",
       "    'trainable': True},\n",
       "   'inbound_nodes': [[['conv2D_2_1', 0, 0, {}]]],\n",
       "   'name': 'norm_2_1'},\n",
       "  {'class_name': 'Activation',\n",
       "   'config': {'activation': 'relu', 'name': 'active_2_1', 'trainable': True},\n",
       "   'inbound_nodes': [[['norm_2_1', 0, 0, {}]]],\n",
       "   'name': 'active_2_1'},\n",
       "  {'class_name': 'MaxPooling2D',\n",
       "   'config': {'data_format': 'channels_last',\n",
       "    'name': 'Max_pool1',\n",
       "    'padding': 'valid',\n",
       "    'pool_size': (2, 2),\n",
       "    'strides': (2, 2),\n",
       "    'trainable': True},\n",
       "   'inbound_nodes': [[['active_2_1', 0, 0, {}]]],\n",
       "   'name': 'Max_pool1'},\n",
       "  {'class_name': 'Conv2D',\n",
       "   'config': {'activation': 'linear',\n",
       "    'activity_regularizer': None,\n",
       "    'bias_constraint': None,\n",
       "    'bias_initializer': {'class_name': 'Zeros', 'config': {}},\n",
       "    'bias_regularizer': None,\n",
       "    'data_format': 'channels_last',\n",
       "    'dilation_rate': (1, 1),\n",
       "    'filters': 128,\n",
       "    'kernel_constraint': None,\n",
       "    'kernel_initializer': {'class_name': 'VarianceScaling',\n",
       "     'config': {'distribution': 'uniform',\n",
       "      'mode': 'fan_avg',\n",
       "      'scale': 1.0,\n",
       "      'seed': None}},\n",
       "    'kernel_regularizer': None,\n",
       "    'kernel_size': (3, 3),\n",
       "    'name': 'conv2D_1_2',\n",
       "    'padding': 'same',\n",
       "    'strides': (1, 1),\n",
       "    'trainable': True,\n",
       "    'use_bias': True},\n",
       "   'inbound_nodes': [[['Max_pool1', 0, 0, {}]]],\n",
       "   'name': 'conv2D_1_2'},\n",
       "  {'class_name': 'BatchNormalization',\n",
       "   'config': {'axis': 3,\n",
       "    'beta_constraint': None,\n",
       "    'beta_initializer': {'class_name': 'Zeros', 'config': {}},\n",
       "    'beta_regularizer': None,\n",
       "    'center': True,\n",
       "    'epsilon': 0.001,\n",
       "    'gamma_constraint': None,\n",
       "    'gamma_initializer': {'class_name': 'Ones', 'config': {}},\n",
       "    'gamma_regularizer': None,\n",
       "    'momentum': 0.99,\n",
       "    'moving_mean_initializer': {'class_name': 'Zeros', 'config': {}},\n",
       "    'moving_variance_initializer': {'class_name': 'Ones', 'config': {}},\n",
       "    'name': 'norm_1_2',\n",
       "    'scale': True,\n",
       "    'trainable': True},\n",
       "   'inbound_nodes': [[['conv2D_1_2', 0, 0, {}]]],\n",
       "   'name': 'norm_1_2'},\n",
       "  {'class_name': 'Activation',\n",
       "   'config': {'activation': 'relu', 'name': 'active_1_2', 'trainable': True},\n",
       "   'inbound_nodes': [[['norm_1_2', 0, 0, {}]]],\n",
       "   'name': 'active_1_2'},\n",
       "  {'class_name': 'Conv2D',\n",
       "   'config': {'activation': 'linear',\n",
       "    'activity_regularizer': None,\n",
       "    'bias_constraint': None,\n",
       "    'bias_initializer': {'class_name': 'Zeros', 'config': {}},\n",
       "    'bias_regularizer': None,\n",
       "    'data_format': 'channels_last',\n",
       "    'dilation_rate': (1, 1),\n",
       "    'filters': 128,\n",
       "    'kernel_constraint': None,\n",
       "    'kernel_initializer': {'class_name': 'VarianceScaling',\n",
       "     'config': {'distribution': 'uniform',\n",
       "      'mode': 'fan_avg',\n",
       "      'scale': 1.0,\n",
       "      'seed': None}},\n",
       "    'kernel_regularizer': None,\n",
       "    'kernel_size': (3, 3),\n",
       "    'name': 'conv2D_2_2',\n",
       "    'padding': 'same',\n",
       "    'strides': (1, 1),\n",
       "    'trainable': True,\n",
       "    'use_bias': True},\n",
       "   'inbound_nodes': [[['active_1_2', 0, 0, {}]]],\n",
       "   'name': 'conv2D_2_2'},\n",
       "  {'class_name': 'BatchNormalization',\n",
       "   'config': {'axis': 3,\n",
       "    'beta_constraint': None,\n",
       "    'beta_initializer': {'class_name': 'Zeros', 'config': {}},\n",
       "    'beta_regularizer': None,\n",
       "    'center': True,\n",
       "    'epsilon': 0.001,\n",
       "    'gamma_constraint': None,\n",
       "    'gamma_initializer': {'class_name': 'Ones', 'config': {}},\n",
       "    'gamma_regularizer': None,\n",
       "    'momentum': 0.99,\n",
       "    'moving_mean_initializer': {'class_name': 'Zeros', 'config': {}},\n",
       "    'moving_variance_initializer': {'class_name': 'Ones', 'config': {}},\n",
       "    'name': 'norm_2_2',\n",
       "    'scale': True,\n",
       "    'trainable': True},\n",
       "   'inbound_nodes': [[['conv2D_2_2', 0, 0, {}]]],\n",
       "   'name': 'norm_2_2'},\n",
       "  {'class_name': 'Activation',\n",
       "   'config': {'activation': 'relu', 'name': 'active_2_2', 'trainable': True},\n",
       "   'inbound_nodes': [[['norm_2_2', 0, 0, {}]]],\n",
       "   'name': 'active_2_2'},\n",
       "  {'class_name': 'MaxPooling2D',\n",
       "   'config': {'data_format': 'channels_last',\n",
       "    'name': 'Max_pool2',\n",
       "    'padding': 'valid',\n",
       "    'pool_size': (2, 2),\n",
       "    'strides': (2, 2),\n",
       "    'trainable': True},\n",
       "   'inbound_nodes': [[['active_2_2', 0, 0, {}]]],\n",
       "   'name': 'Max_pool2'},\n",
       "  {'class_name': 'Conv2D',\n",
       "   'config': {'activation': 'linear',\n",
       "    'activity_regularizer': None,\n",
       "    'bias_constraint': None,\n",
       "    'bias_initializer': {'class_name': 'Zeros', 'config': {}},\n",
       "    'bias_regularizer': None,\n",
       "    'data_format': 'channels_last',\n",
       "    'dilation_rate': (1, 1),\n",
       "    'filters': 256,\n",
       "    'kernel_constraint': None,\n",
       "    'kernel_initializer': {'class_name': 'VarianceScaling',\n",
       "     'config': {'distribution': 'uniform',\n",
       "      'mode': 'fan_avg',\n",
       "      'scale': 1.0,\n",
       "      'seed': None}},\n",
       "    'kernel_regularizer': None,\n",
       "    'kernel_size': (3, 3),\n",
       "    'name': 'conv2D_1_3',\n",
       "    'padding': 'same',\n",
       "    'strides': (1, 1),\n",
       "    'trainable': True,\n",
       "    'use_bias': True},\n",
       "   'inbound_nodes': [[['Max_pool2', 0, 0, {}]]],\n",
       "   'name': 'conv2D_1_3'},\n",
       "  {'class_name': 'BatchNormalization',\n",
       "   'config': {'axis': 3,\n",
       "    'beta_constraint': None,\n",
       "    'beta_initializer': {'class_name': 'Zeros', 'config': {}},\n",
       "    'beta_regularizer': None,\n",
       "    'center': True,\n",
       "    'epsilon': 0.001,\n",
       "    'gamma_constraint': None,\n",
       "    'gamma_initializer': {'class_name': 'Ones', 'config': {}},\n",
       "    'gamma_regularizer': None,\n",
       "    'momentum': 0.99,\n",
       "    'moving_mean_initializer': {'class_name': 'Zeros', 'config': {}},\n",
       "    'moving_variance_initializer': {'class_name': 'Ones', 'config': {}},\n",
       "    'name': 'norm_1_3',\n",
       "    'scale': True,\n",
       "    'trainable': True},\n",
       "   'inbound_nodes': [[['conv2D_1_3', 0, 0, {}]]],\n",
       "   'name': 'norm_1_3'},\n",
       "  {'class_name': 'Activation',\n",
       "   'config': {'activation': 'relu', 'name': 'active_1_3', 'trainable': True},\n",
       "   'inbound_nodes': [[['norm_1_3', 0, 0, {}]]],\n",
       "   'name': 'active_1_3'},\n",
       "  {'class_name': 'Conv2D',\n",
       "   'config': {'activation': 'linear',\n",
       "    'activity_regularizer': None,\n",
       "    'bias_constraint': None,\n",
       "    'bias_initializer': {'class_name': 'Zeros', 'config': {}},\n",
       "    'bias_regularizer': None,\n",
       "    'data_format': 'channels_last',\n",
       "    'dilation_rate': (1, 1),\n",
       "    'filters': 256,\n",
       "    'kernel_constraint': None,\n",
       "    'kernel_initializer': {'class_name': 'VarianceScaling',\n",
       "     'config': {'distribution': 'uniform',\n",
       "      'mode': 'fan_avg',\n",
       "      'scale': 1.0,\n",
       "      'seed': None}},\n",
       "    'kernel_regularizer': None,\n",
       "    'kernel_size': (3, 3),\n",
       "    'name': 'conv2D_2_3',\n",
       "    'padding': 'same',\n",
       "    'strides': (1, 1),\n",
       "    'trainable': True,\n",
       "    'use_bias': True},\n",
       "   'inbound_nodes': [[['active_1_3', 0, 0, {}]]],\n",
       "   'name': 'conv2D_2_3'},\n",
       "  {'class_name': 'BatchNormalization',\n",
       "   'config': {'axis': 3,\n",
       "    'beta_constraint': None,\n",
       "    'beta_initializer': {'class_name': 'Zeros', 'config': {}},\n",
       "    'beta_regularizer': None,\n",
       "    'center': True,\n",
       "    'epsilon': 0.001,\n",
       "    'gamma_constraint': None,\n",
       "    'gamma_initializer': {'class_name': 'Ones', 'config': {}},\n",
       "    'gamma_regularizer': None,\n",
       "    'momentum': 0.99,\n",
       "    'moving_mean_initializer': {'class_name': 'Zeros', 'config': {}},\n",
       "    'moving_variance_initializer': {'class_name': 'Ones', 'config': {}},\n",
       "    'name': 'norm_2_3',\n",
       "    'scale': True,\n",
       "    'trainable': True},\n",
       "   'inbound_nodes': [[['conv2D_2_3', 0, 0, {}]]],\n",
       "   'name': 'norm_2_3'},\n",
       "  {'class_name': 'Activation',\n",
       "   'config': {'activation': 'relu', 'name': 'active_2_3', 'trainable': True},\n",
       "   'inbound_nodes': [[['norm_2_3', 0, 0, {}]]],\n",
       "   'name': 'active_2_3'},\n",
       "  {'class_name': 'MaxPooling2D',\n",
       "   'config': {'data_format': 'channels_last',\n",
       "    'name': 'Max_pool3',\n",
       "    'padding': 'valid',\n",
       "    'pool_size': (2, 2),\n",
       "    'strides': (2, 2),\n",
       "    'trainable': True},\n",
       "   'inbound_nodes': [[['active_2_3', 0, 0, {}]]],\n",
       "   'name': 'Max_pool3'},\n",
       "  {'class_name': 'Flatten',\n",
       "   'config': {'name': 'flatten_1', 'trainable': True},\n",
       "   'inbound_nodes': [[['Max_pool3', 0, 0, {}]]],\n",
       "   'name': 'flatten_1'},\n",
       "  {'class_name': 'Dense',\n",
       "   'config': {'activation': 'relu',\n",
       "    'activity_regularizer': None,\n",
       "    'bias_constraint': None,\n",
       "    'bias_initializer': {'class_name': 'Zeros', 'config': {}},\n",
       "    'bias_regularizer': None,\n",
       "    'kernel_constraint': None,\n",
       "    'kernel_initializer': {'class_name': 'VarianceScaling',\n",
       "     'config': {'distribution': 'uniform',\n",
       "      'mode': 'fan_avg',\n",
       "      'scale': 1.0,\n",
       "      'seed': None}},\n",
       "    'kernel_regularizer': None,\n",
       "    'name': 'Dense1',\n",
       "    'trainable': True,\n",
       "    'units': 512,\n",
       "    'use_bias': True},\n",
       "   'inbound_nodes': [[['flatten_1', 0, 0, {}]]],\n",
       "   'name': 'Dense1'},\n",
       "  {'class_name': 'Dense',\n",
       "   'config': {'activation': 'softmax',\n",
       "    'activity_regularizer': None,\n",
       "    'bias_constraint': None,\n",
       "    'bias_initializer': {'class_name': 'Zeros', 'config': {}},\n",
       "    'bias_regularizer': None,\n",
       "    'kernel_constraint': None,\n",
       "    'kernel_initializer': {'class_name': 'VarianceScaling',\n",
       "     'config': {'distribution': 'uniform',\n",
       "      'mode': 'fan_avg',\n",
       "      'scale': 1.0,\n",
       "      'seed': None}},\n",
       "    'kernel_regularizer': None,\n",
       "    'name': 'ffc',\n",
       "    'trainable': True,\n",
       "    'units': 10,\n",
       "    'use_bias': True},\n",
       "   'inbound_nodes': [[['Dense1', 0, 0, {}]]],\n",
       "   'name': 'ffc'}],\n",
       " 'name': 'model_1',\n",
       " 'output_layers': [['ffc', 0, 0]]}"
      ]
     },
     "execution_count": 4,
     "metadata": {},
     "output_type": "execute_result"
    }
   ],
   "source": [
    "model.get_config()"
   ]
  },
  {
   "cell_type": "code",
   "execution_count": 5,
   "metadata": {
    "collapsed": true
   },
   "outputs": [],
   "source": [
    "df = pd.read_csv('train.csv')"
   ]
  },
  {
   "cell_type": "code",
   "execution_count": 6,
   "metadata": {
    "collapsed": true
   },
   "outputs": [],
   "source": [
    "label = df['label'].as_matrix()"
   ]
  },
  {
   "cell_type": "code",
   "execution_count": 7,
   "metadata": {},
   "outputs": [
    {
     "data": {
      "text/plain": [
       "(42000,)"
      ]
     },
     "execution_count": 7,
     "metadata": {},
     "output_type": "execute_result"
    }
   ],
   "source": [
    "label.shape"
   ]
  },
  {
   "cell_type": "code",
   "execution_count": 8,
   "metadata": {
    "collapsed": true
   },
   "outputs": [],
   "source": [
    "X = df.drop('label',axis=1).as_matrix()"
   ]
  },
  {
   "cell_type": "code",
   "execution_count": 9,
   "metadata": {},
   "outputs": [
    {
     "data": {
      "text/plain": [
       "(42000, 784)"
      ]
     },
     "execution_count": 9,
     "metadata": {},
     "output_type": "execute_result"
    }
   ],
   "source": [
    "X.shape"
   ]
  },
  {
   "cell_type": "code",
   "execution_count": 10,
   "metadata": {
    "collapsed": true
   },
   "outputs": [],
   "source": [
    "X1 = []\n",
    "for i in range(X.shape[0]):\n",
    "    X1.append(X[i,:].reshape(28,28,1))"
   ]
  },
  {
   "cell_type": "code",
   "execution_count": 11,
   "metadata": {
    "collapsed": true
   },
   "outputs": [],
   "source": [
    "resX = np.array(X1)"
   ]
  },
  {
   "cell_type": "code",
   "execution_count": 12,
   "metadata": {},
   "outputs": [
    {
     "data": {
      "text/plain": [
       "(42000, 28, 28, 1)"
      ]
     },
     "execution_count": 12,
     "metadata": {},
     "output_type": "execute_result"
    }
   ],
   "source": [
    "resX.shape"
   ]
  },
  {
   "cell_type": "code",
   "execution_count": 13,
   "metadata": {
    "collapsed": true
   },
   "outputs": [],
   "source": [
    "labels = []\n",
    "with tf.Session() as sess:\n",
    "    cl = tf.one_hot(label,10,axis=0)\n",
    "    labels = sess.run(cl)"
   ]
  },
  {
   "cell_type": "code",
   "execution_count": 14,
   "metadata": {
    "collapsed": true
   },
   "outputs": [],
   "source": [
    "labels = labels.T"
   ]
  },
  {
   "cell_type": "code",
   "execution_count": 15,
   "metadata": {},
   "outputs": [
    {
     "data": {
      "text/plain": [
       "(42000, 10)"
      ]
     },
     "execution_count": 15,
     "metadata": {},
     "output_type": "execute_result"
    }
   ],
   "source": [
    "labels.shape"
   ]
  },
  {
   "cell_type": "code",
   "execution_count": 18,
   "metadata": {
    "collapsed": true
   },
   "outputs": [],
   "source": [
    "model.compile(optimizer=keras.optimizers.Adam(),loss='categorical_crossentropy',metrics=[\"accuracy\"])"
   ]
  },
  {
   "cell_type": "code",
   "execution_count": 19,
   "metadata": {},
   "outputs": [
    {
     "data": {
      "text/plain": [
       "(4200, 10)"
      ]
     },
     "execution_count": 19,
     "metadata": {},
     "output_type": "execute_result"
    }
   ],
   "source": [
    "model.compute_output_shape((4200,28,28,1))"
   ]
  },
  {
   "cell_type": "code",
   "execution_count": 20,
   "metadata": {},
   "outputs": [
    {
     "name": "stdout",
     "output_type": "stream",
     "text": [
      "Epoch 1/20\n",
      "42000/42000 [==============================] - 645s - loss: 0.1204 - acc: 0.9633   \n",
      "Epoch 2/20\n",
      "42000/42000 [==============================] - 642s - loss: 0.0496 - acc: 0.9853   \n",
      "Epoch 3/20\n",
      "42000/42000 [==============================] - 346s - loss: 0.0411 - acc: 0.9882   \n",
      "Epoch 4/20\n",
      "42000/42000 [==============================] - 338s - loss: 0.0340 - acc: 0.9899   \n",
      "Epoch 5/20\n",
      "42000/42000 [==============================] - 342s - loss: 0.0303 - acc: 0.9911   \n",
      "Epoch 6/20\n",
      "42000/42000 [==============================] - 348s - loss: 0.0263 - acc: 0.9925   \n",
      "Epoch 7/20\n",
      "42000/42000 [==============================] - 345s - loss: 0.0231 - acc: 0.9929   \n",
      "Epoch 8/20\n",
      "42000/42000 [==============================] - 338s - loss: 0.0193 - acc: 0.9944   \n",
      "Epoch 9/20\n",
      "42000/42000 [==============================] - 338s - loss: 0.0175 - acc: 0.9950   \n",
      "Epoch 10/20\n",
      "42000/42000 [==============================] - 336s - loss: 0.0158 - acc: 0.9953   \n",
      "Epoch 11/20\n",
      "42000/42000 [==============================] - 342s - loss: 0.0149 - acc: 0.9957   \n",
      "Epoch 12/20\n",
      "42000/42000 [==============================] - 339s - loss: 0.0124 - acc: 0.9962   \n",
      "Epoch 13/20\n",
      "42000/42000 [==============================] - 333s - loss: 0.0131 - acc: 0.9965   \n",
      "Epoch 14/20\n",
      "42000/42000 [==============================] - 334s - loss: 0.0107 - acc: 0.9969   \n",
      "Epoch 15/20\n",
      "42000/42000 [==============================] - 334s - loss: 0.0096 - acc: 0.9972   \n",
      "Epoch 16/20\n",
      "42000/42000 [==============================] - 334s - loss: 0.0118 - acc: 0.9968   \n",
      "Epoch 17/20\n",
      "42000/42000 [==============================] - 333s - loss: 0.0067 - acc: 0.9981   \n",
      "Epoch 18/20\n",
      "42000/42000 [==============================] - 333s - loss: 0.0097 - acc: 0.9970   \n",
      "Epoch 19/20\n",
      "42000/42000 [==============================] - 334s - loss: 0.0073 - acc: 0.9980   \n",
      "Epoch 20/20\n",
      "42000/42000 [==============================] - 333s - loss: 0.0109 - acc: 0.9971   \n"
     ]
    },
    {
     "data": {
      "text/plain": [
       "<keras.callbacks.History at 0x254490d42e8>"
      ]
     },
     "execution_count": 20,
     "metadata": {},
     "output_type": "execute_result"
    }
   ],
   "source": [
    "model.fit(x=resX,y=labels,epochs=20,batch_size=32)"
   ]
  },
  {
   "cell_type": "code",
   "execution_count": 21,
   "metadata": {
    "collapsed": true
   },
   "outputs": [],
   "source": [
    "model.save('VGGShort.h5')"
   ]
  },
  {
   "cell_type": "code",
   "execution_count": null,
   "metadata": {
    "collapsed": true
   },
   "outputs": [],
   "source": []
  },
  {
   "cell_type": "code",
   "execution_count": 16,
   "metadata": {
    "collapsed": true
   },
   "outputs": [],
   "source": [
    "dfU = pd.read_csv(\"test.csv\")"
   ]
  },
  {
   "cell_type": "code",
   "execution_count": 17,
   "metadata": {
    "collapsed": true
   },
   "outputs": [],
   "source": [
    "inputA = dfU.as_matrix()"
   ]
  },
  {
   "cell_type": "code",
   "execution_count": 18,
   "metadata": {},
   "outputs": [
    {
     "data": {
      "text/plain": [
       "(28000, 784)"
      ]
     },
     "execution_count": 18,
     "metadata": {},
     "output_type": "execute_result"
    }
   ],
   "source": [
    "inputA.shape"
   ]
  },
  {
   "cell_type": "code",
   "execution_count": 19,
   "metadata": {
    "collapsed": true
   },
   "outputs": [],
   "source": [
    "X2 = []\n",
    "for i in range(inputA.shape[0]):\n",
    "    X2.append(inputA[i,:].reshape(28,28,1))"
   ]
  },
  {
   "cell_type": "code",
   "execution_count": 20,
   "metadata": {
    "collapsed": true
   },
   "outputs": [],
   "source": [
    "inputA = np.array(X2)"
   ]
  },
  {
   "cell_type": "code",
   "execution_count": 22,
   "metadata": {
    "collapsed": true
   },
   "outputs": [],
   "source": [
    "res = model.predict(inputA)"
   ]
  },
  {
   "cell_type": "code",
   "execution_count": 23,
   "metadata": {},
   "outputs": [
    {
     "data": {
      "text/plain": [
       "(28000, 28, 28, 1)"
      ]
     },
     "execution_count": 23,
     "metadata": {},
     "output_type": "execute_result"
    }
   ],
   "source": [
    "res.shape"
   ]
  },
  {
   "cell_type": "code",
   "execution_count": null,
   "metadata": {
    "collapsed": true
   },
   "outputs": [],
   "source": []
  }
 ],
 "metadata": {
  "kernelspec": {
   "display_name": "Python 3",
   "language": "python",
   "name": "python3"
  },
  "language_info": {
   "codemirror_mode": {
    "name": "ipython",
    "version": 3
   },
   "file_extension": ".py",
   "mimetype": "text/x-python",
   "name": "python",
   "nbconvert_exporter": "python",
   "pygments_lexer": "ipython3",
   "version": "3.6.4"
  }
 },
 "nbformat": 4,
 "nbformat_minor": 2
}
