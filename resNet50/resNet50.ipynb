{
 "cells": [
  {
   "cell_type": "code",
   "execution_count": 38,
   "metadata": {},
   "outputs": [],
   "source": [
    "import tensorflow as tf\n",
    "import pandas as pd\n",
    "from keras.layers import Input, Dense, Activation, ZeroPadding2D, BatchNormalization, Flatten, Conv2D\n",
    "from keras.layers import AveragePooling2D, MaxPooling2D, Dropout, GlobalMaxPooling2D, GlobalAveragePooling2D \n",
    "from keras.layers import Add\n",
    "from keras.layers.advanced_activations import PReLU\n",
    "from keras.models import Model\n",
    "from keras.preprocessing import image\n",
    "from keras.utils import layer_utils\n",
    "from keras.utils.data_utils import get_file\n",
    "from keras.applications.imagenet_utils import preprocess_input\n",
    "import pydot \n",
    "\n",
    "\n",
    "from IPython.display import SVG\n",
    "from keras.utils.vis_utils import model_to_dot\n",
    "from keras.utils import plot_model\n",
    "\n",
    "\n",
    "import keras.backend as K\n",
    "K.set_image_data_format('channels_last')\n",
    "import matplotlib.pyplot as plt\n",
    "from matplotlib.pyplot import imshow\n",
    "\n",
    "import tensorflow as tf\n",
    "import pandas as pd\n",
    "import numpy as np\n",
    "import keras\n",
    "\n",
    "\n",
    "%matplotlib inline"
   ]
  },
  {
   "cell_type": "code",
   "execution_count": 19,
   "metadata": {
    "collapsed": true
   },
   "outputs": [],
   "source": [
    "def Identity_block(input_tensor, kernel_size, filters, stage, block): \n",
    "    '''\n",
    "    in here the F3 has to be the same as the number of the channels in input tensor \n",
    "    keep in mind that in this type nothing changes in the shape\n",
    "    '''\n",
    "    \n",
    "    F1,F2,F3 = filters\n",
    "    \n",
    "    X = Conv2D(F1,(1,1),name=\"IC_1\"+\"_\"+stage+\"_\"+block)(input_tensor)\n",
    "    X = BatchNormalization(name=\"IB_1\"+\"_\"+stage+\"_\"+block)(X)\n",
    "    X = PReLU(name=\"IP_1\"+\"_\"+stage+\"_\"+block)(X)\n",
    "    \n",
    "    X = Conv2D(F2,kernel_size=kernel_size,padding='same',name=\"IC_2\"+\"_\"+stage+\"_\"+block)(X)\n",
    "    X = BatchNormalization(axis=3,name=\"IB_2\"+\"_\"+stage+\"_\"+block)(X)\n",
    "    X = PReLU(name=\"IP_2\"+\"_\"+stage+\"_\"+block)(X)\n",
    "    \n",
    "    X = Conv2D(F3,kernel_size=(1,1),name=\"IC_3\"+\"_\"+stage+\"_\"+block)(X)\n",
    "    X = BatchNormalization(axis=3,name=\"IB_3\"+\"_\"+stage+\"_\"+block)(X)\n",
    "    X = PReLU(name=\"IP_3\"+\"_\"+stage+\"_\"+block)(X)\n",
    "    \n",
    "    X = Add(name=\"IA_4\"+\"_\"+stage+\"_\"+block)([X,input_tensor])\n",
    "    X = PReLU(name=\"IP_4\"+\"_\"+stage+\"_\"+block)(X)\n",
    "    \n",
    "    return X\n"
   ]
  },
  {
   "cell_type": "code",
   "execution_count": 20,
   "metadata": {
    "collapsed": true
   },
   "outputs": [],
   "source": [
    "def Conv_block(input_tensor, kernel_size, filters, stage, block, strides=(2,2)):\n",
    "    F1, F2, F3 = filters\n",
    "    \n",
    "    \n",
    "    X = Conv2D(F1,(1,1),strides=strides,name=\"CC_1\"+\"_\"+stage+\"_\"+block)(input_tensor)\n",
    "    X = BatchNormalization(axis=3,name=\"CB_1\"+\"_\"+stage+\"_\"+block)(X)\n",
    "    X = PReLU(name=\"CP_1\"+\"_\"+stage+\"_\"+block)(X)\n",
    "    \n",
    "#     after this first layer it has already set shape to the width and the height\n",
    "    \n",
    "    \n",
    "    X = Conv2D(F2,kernel_size=kernel_size,padding='same',name=\"CC_2\"+\"_\"+stage+\"_\"+block)(X)\n",
    "    X = BatchNormalization(axis=3,name=\"CB_2\"+\"_\"+stage+\"_\"+block)(X)\n",
    "    X = PReLU(name=\"CP_2\"+\"_\"+stage+\"_\"+block)(X)\n",
    "    \n",
    "    \n",
    "    X = Conv2D(F3,(1,1),name=\"CC_3\"+\"_\"+stage+\"_\"+block)(X)\n",
    "    X = BatchNormalization(axis=3,name=\"CB_3\"+\"_\"+stage+\"_\"+block)(X)\n",
    "    \n",
    "#     after this third layer we have set tone to the number of channels as the ouput   \n",
    "    \n",
    "#     and the only reason we don't have to check the shape is that X1 - > X2 - > X3  and X_input - > X1 to begin with\n",
    "    \n",
    "#     because of the last two comments : strides = strides and F = F3 even for the shortcut of the input     \n",
    "    \n",
    "    SC = Conv2D(F3,(1,1),strides=strides,name=\"CSC_4\"+\"_\"+stage+\"_\"+block)(input_tensor)\n",
    "    SC = BatchNormalization(axis=3,name=\"CSP_4\"+\"_\"+stage+\"_\"+block)(SC)\n",
    "    \n",
    "    \n",
    "    X = Add(name=\"CSA_5\"+\"_\"+stage+\"_\"+block)([X,SC])\n",
    "    X = PReLU(name=\"CSP_5\"+\"_\"+stage+\"_\"+block)(X)\n",
    "    \n",
    "    return X\n"
   ]
  },
  {
   "cell_type": "code",
   "execution_count": 1,
   "metadata": {},
   "outputs": [],
   "source": [
    "def result(shape):\n",
    "    X_input = Input(shape)\n",
    "    X = X_input\n",
    "    X = ZeroPadding2D((3,3))(X)\n",
    "    X = Conv2D(64,(7,7),strides=(2,2),name=\"ConvDasti1\")(X)\n",
    "    X = BatchNormalization(axis=3,name='BatchDasti1')(X)\n",
    "    X = PReLU(name=\"PreluDasti1\")(X)\n",
    "    X = MaxPooling2D((3,3),strides=(2,2),name=\"MaxPoolingDasti\")(X)\n",
    "    \n",
    "    X = Conv_block(X,3,[64,64,256],stage='2',block='a',strides=(1,1))\n",
    "    X = Identity_block(X,3,[64,64,256],stage='2',block='b')\n",
    "    X = Identity_block(X,3,[64,64,256],stage='2',block='c')\n",
    "    \n",
    "    \n",
    "    X = Conv_block(X,3,[128,128,512],stage='3',block='a')\n",
    "    X = Identity_block(X,3,[128,128,512],stage='3',block='b')\n",
    "    X = Identity_block(X,3,[128,128,512],stage='3',block='c')\n",
    "    X = Identity_block(X,3,[128,128,512],stage='3',block='d')\n",
    "    \n",
    "    \n",
    "    X = Conv_block(X,3,[256,256,1024],stage='4',block='a')\n",
    "    X = Identity_block(X,3,[256,256,1024],stage='4',block='b')\n",
    "    X = Identity_block(X,3,[256,256,1024],stage='4',block='c')\n",
    "    X = Identity_block(X,3,[256,256,1024],stage='4',block='d')\n",
    "    X = Identity_block(X,3,[256,256,1024],stage='4',block='e')\n",
    "    X = Identity_block(X,3,[256,256,1024],stage='4',block='f')\n",
    "    X = AveragePooling2D((2,2))(X)\n",
    "    \n",
    "    \n",
    "    X = Flatten()(X)\n",
    "    X = Dense(10,activation='softmax',name=\"final\")(X)\n",
    "    \n",
    "    model = Model(inputs=X_input,outputs=X,name=\"model\")\n",
    "    \n",
    "    return model\n"
   ]
  },
  {
   "cell_type": "code",
   "execution_count": 22,
   "metadata": {},
   "outputs": [],
   "source": [
    "model = result([28,28,1])"
   ]
  },
  {
   "cell_type": "code",
   "execution_count": 23,
   "metadata": {},
   "outputs": [
    {
     "data": {
      "text/plain": [
       "(42000, 10)"
      ]
     },
     "execution_count": 23,
     "metadata": {},
     "output_type": "execute_result"
    }
   ],
   "source": [
    "model.compute_output_shape((42000,28,28,1))"
   ]
  },
  {
   "cell_type": "code",
   "execution_count": 24,
   "metadata": {
    "collapsed": true
   },
   "outputs": [],
   "source": [
    "df = pd.read_csv('train.csv')"
   ]
  },
  {
   "cell_type": "code",
   "execution_count": 25,
   "metadata": {
    "collapsed": true
   },
   "outputs": [],
   "source": [
    "label = df['label'].as_matrix()"
   ]
  },
  {
   "cell_type": "code",
   "execution_count": 26,
   "metadata": {},
   "outputs": [
    {
     "data": {
      "text/plain": [
       "(42000,)"
      ]
     },
     "execution_count": 26,
     "metadata": {},
     "output_type": "execute_result"
    }
   ],
   "source": [
    "label.shape"
   ]
  },
  {
   "cell_type": "code",
   "execution_count": 27,
   "metadata": {
    "collapsed": true
   },
   "outputs": [],
   "source": [
    "X = df.drop('label',axis=1).as_matrix()"
   ]
  },
  {
   "cell_type": "code",
   "execution_count": 28,
   "metadata": {},
   "outputs": [
    {
     "data": {
      "text/plain": [
       "(42000, 784)"
      ]
     },
     "execution_count": 28,
     "metadata": {},
     "output_type": "execute_result"
    }
   ],
   "source": [
    "X.shape"
   ]
  },
  {
   "cell_type": "code",
   "execution_count": 29,
   "metadata": {
    "collapsed": true
   },
   "outputs": [],
   "source": [
    "X1 = []\n",
    "for i in range(X.shape[0]):\n",
    "    X1.append(X[i,:].reshape(28,28,1))"
   ]
  },
  {
   "cell_type": "code",
   "execution_count": 32,
   "metadata": {},
   "outputs": [],
   "source": [
    "resX = np.array(X1)"
   ]
  },
  {
   "cell_type": "code",
   "execution_count": 33,
   "metadata": {},
   "outputs": [
    {
     "data": {
      "text/plain": [
       "(42000, 28, 28, 1)"
      ]
     },
     "execution_count": 33,
     "metadata": {},
     "output_type": "execute_result"
    }
   ],
   "source": [
    "resX.shape"
   ]
  },
  {
   "cell_type": "code",
   "execution_count": 34,
   "metadata": {
    "collapsed": true
   },
   "outputs": [],
   "source": [
    "labels = []\n",
    "with tf.Session() as sess:\n",
    "    cl = tf.one_hot(label,10,axis=0)\n",
    "    labels = sess.run(cl)"
   ]
  },
  {
   "cell_type": "code",
   "execution_count": 35,
   "metadata": {
    "collapsed": true
   },
   "outputs": [],
   "source": [
    "labels = labels.T"
   ]
  },
  {
   "cell_type": "code",
   "execution_count": 36,
   "metadata": {},
   "outputs": [
    {
     "data": {
      "text/plain": [
       "(42000, 10)"
      ]
     },
     "execution_count": 36,
     "metadata": {},
     "output_type": "execute_result"
    }
   ],
   "source": [
    "labels.shape"
   ]
  },
  {
   "cell_type": "code",
   "execution_count": 40,
   "metadata": {},
   "outputs": [],
   "source": [
    "model.compile(optimizer=keras.optimizers.Adam(),loss='categorical_crossentropy',metrics=['accuracy'])"
   ]
  },
  {
   "cell_type": "code",
   "execution_count": 41,
   "metadata": {},
   "outputs": [
    {
     "name": "stdout",
     "output_type": "stream",
     "text": [
      "Epoch 1/30\n",
      "42000/42000 [==============================] - 1766s - loss: 0.3870 - acc: 0.9118  \n",
      "Epoch 2/30\n",
      "42000/42000 [==============================] - 1615s - loss: 0.2058 - acc: 0.9514  \n",
      "Epoch 3/30\n",
      "42000/42000 [==============================] - 1616s - loss: 0.1295 - acc: 0.9691  \n",
      "Epoch 4/30\n",
      "42000/42000 [==============================] - 1618s - loss: 0.1067 - acc: 0.9725  \n",
      "Epoch 5/30\n",
      "42000/42000 [==============================] - 1618s - loss: 0.1718 - acc: 0.9608  \n",
      "Epoch 6/30\n",
      "42000/42000 [==============================] - 1617s - loss: 0.0744 - acc: 0.9800  \n",
      "Epoch 7/30\n",
      "42000/42000 [==============================] - 1614s - loss: 0.2063 - acc: 0.9640  \n",
      "Epoch 8/30\n",
      "42000/42000 [==============================] - 1618s - loss: 0.2720 - acc: 0.9547  \n",
      "Epoch 9/30\n",
      "42000/42000 [==============================] - 1613s - loss: 0.2218 - acc: 0.9560  \n",
      "Epoch 10/30\n",
      "42000/42000 [==============================] - 1609s - loss: 0.1802 - acc: 0.9659  \n",
      "Epoch 11/30\n",
      "42000/42000 [==============================] - 1608s - loss: 0.1174 - acc: 0.9707  \n",
      "Epoch 12/30\n",
      "42000/42000 [==============================] - 1610s - loss: 0.0521 - acc: 0.9845  \n",
      "Epoch 13/30\n",
      "42000/42000 [==============================] - 1609s - loss: 0.0559 - acc: 0.9857  \n",
      "Epoch 14/30\n",
      "42000/42000 [==============================] - 1610s - loss: 0.0504 - acc: 0.9867  \n",
      "Epoch 15/30\n",
      "42000/42000 [==============================] - 773s - loss: 0.0746 - acc: 0.9831   \n",
      "Epoch 16/30\n",
      "42000/42000 [==============================] - 752s - loss: 0.0367 - acc: 0.9891   \n",
      "Epoch 17/30\n",
      "42000/42000 [==============================] - 758s - loss: 0.0278 - acc: 0.9919   \n",
      "Epoch 18/30\n",
      "42000/42000 [==============================] - 753s - loss: 0.0945 - acc: 0.9851   \n",
      "Epoch 19/30\n",
      "42000/42000 [==============================] - 754s - loss: 0.0778 - acc: 0.9852   \n",
      "Epoch 20/30\n",
      "42000/42000 [==============================] - 766s - loss: 0.0497 - acc: 0.9894   \n",
      "Epoch 21/30\n",
      "42000/42000 [==============================] - 1231s - loss: 0.0552 - acc: 0.9906  \n",
      "Epoch 22/30\n",
      "42000/42000 [==============================] - 1456s - loss: 0.0302 - acc: 0.9940  \n",
      "Epoch 23/30\n",
      "42000/42000 [==============================] - 1214s - loss: 0.0688 - acc: 0.9864  \n",
      "Epoch 24/30\n",
      "42000/42000 [==============================] - 923s - loss: 0.0500 - acc: 0.9906   \n",
      "Epoch 25/30\n",
      "42000/42000 [==============================] - 962s - loss: 0.0524 - acc: 0.9909   \n",
      "Epoch 26/30\n",
      "42000/42000 [==============================] - 1435s - loss: 0.0404 - acc: 0.9916  \n",
      "Epoch 27/30\n",
      "42000/42000 [==============================] - 1293s - loss: 0.1063 - acc: 0.9800  \n",
      "Epoch 28/30\n",
      "42000/42000 [==============================] - 755s - loss: 0.0378 - acc: 0.9917   \n",
      "Epoch 29/30\n",
      "42000/42000 [==============================] - 763s - loss: 0.0341 - acc: 0.9920   \n",
      "Epoch 30/30\n",
      "42000/42000 [==============================] - 764s - loss: 0.0215 - acc: 0.9939   \n"
     ]
    },
    {
     "data": {
      "text/plain": [
       "<keras.callbacks.History at 0x2264b947208>"
      ]
     },
     "execution_count": 41,
     "metadata": {},
     "output_type": "execute_result"
    }
   ],
   "source": [
    "model.fit(x=resX,y=labels,epochs=30,batch_size=32)"
   ]
  },
  {
   "cell_type": "code",
   "execution_count": 42,
   "metadata": {
    "collapsed": true
   },
   "outputs": [],
   "source": [
    "model.save('Res50.h5')"
   ]
  },
  {
   "cell_type": "code",
   "execution_count": null,
   "metadata": {
    "collapsed": true
   },
   "outputs": [],
   "source": []
  }
 ],
 "metadata": {
  "kernelspec": {
   "display_name": "Python 3",
   "language": "python",
   "name": "python3"
  },
  "language_info": {
   "codemirror_mode": {
    "name": "ipython",
    "version": 3
   },
   "file_extension": ".py",
   "mimetype": "text/x-python",
   "name": "python",
   "nbconvert_exporter": "python",
   "pygments_lexer": "ipython3",
   "version": "3.6.4"
  }
 },
 "nbformat": 4,
 "nbformat_minor": 2
}
